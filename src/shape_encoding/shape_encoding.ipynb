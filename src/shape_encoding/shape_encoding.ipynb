{
 "cells": [
  {
   "cell_type": "code",
   "execution_count": 9,
   "metadata": {},
   "outputs": [],
   "source": [
    "import sys\n",
    "sys.path.append('../utils')\n",
    "import os\n",
    "import igl, trimesh\n",
    "import numpy as np\n",
    "import point_cloud_utils as pcu\n",
    "import mesh_tools as mt\n",
    "from fvdb_utils import mesh_to_grid\n",
    "from PoNQ_grid import PoNQ_grid\n",
    "from diffusion_tensor import DiffusionTensor\n",
    "import torch"
   ]
  },
  {
   "cell_type": "code",
   "execution_count": 10,
   "metadata": {},
   "outputs": [],
   "source": [
    "class MeshSampler:\n",
    "    def __init__(self, mesh_name = \"canyon\", wt_path = \"../../data/GT_WT\", glb_path = \"../../data/GT_GLB\", clip_uv = False):\n",
    "        # Load WT mesh\n",
    "        self.v, self.f = igl.read_triangle_mesh(\"{}/{}.obj\".format(wt_path, mesh_name))\n",
    "        self.n = igl.per_face_normals(self.v, self.f, np.array([1e-10, 1e-10, 1e-10]))\n",
    "        \n",
    "        # Load GLB mesh\n",
    "        glb_mesh = trimesh.load(\"{}/{}.glb\".format(glb_path, mesh_name), force=\"mesh\", process=False)\n",
    "        self.glb = glb_mesh\n",
    "        self.glb_v = glb_mesh.vertices\n",
    "        self.glb_f = glb_mesh.faces\n",
    "        self.glb_uv = glb_mesh.visual.uv\n",
    "        self.to_color = glb_mesh.visual.material.to_color\n",
    "        self.clip_uv = clip_uv\n",
    "        print('Material factors: roughness {}, metallic {}'.format(glb_mesh.visual.material.roughnessFactor, glb_mesh.visual.material.metallicFactor))\n",
    "        self.normalize()\n",
    "        \n",
    "    def normalize(self):\n",
    "        self.v = 2*mt.NDCnormalize(self.v)\n",
    "        self.glb_v = 2*mt.NDCnormalize(self.glb_v)\n",
    "    \n",
    "    def get_closest_watertight_samples(self, grid_points):\n",
    "        sdf_compute = igl.signed_distance(grid_points, self.v, self.f, return_normals=True)\n",
    "        normals = sdf_compute[3]\n",
    "        if (normals != normals).any():\n",
    "            c_normals = (grid_points-sdf_compute[2])/sdf_compute[0][:, None]\n",
    "            c_normals /= np.sqrt((c_normals**2).sum(-1, keepdims=True))\n",
    "            print('warning: {} nan normals'.format((normals != normals).sum()))\n",
    "            normals[np.isnan(normals.sum(-1))\n",
    "                    ] = c_normals[np.isnan(normals.sum(-1))]\n",
    "        return sdf_compute[2], normals\n",
    "    \n",
    "    def get_closest_color(self, sampled_points):\n",
    "        \"\"\"returns Nx3 colors in [0, 1]\"\"\"\n",
    "        _, glb_fi, glb_bc = pcu.closest_points_on_mesh(sampled_points, self.glb_v, self.glb_f)\n",
    "        uv_query = pcu.interpolate_barycentric_coords(self.glb_f, glb_fi, glb_bc, self.glb_uv)\n",
    "        uv_query[np.isnan(uv_query)] = 0\n",
    "        if (uv_query.min()<0 or uv_query.max()>1) and not self.clip_uv: \n",
    "            print(f'WARNING: UV OUT OF BOUNDS {uv_query.min()} {uv_query.max()}')\n",
    "        if self.clip_uv:\n",
    "            uv_query = np.clip(uv_query, 0, 1)\n",
    "\n",
    "        colors = self.to_color(uv_query)\n",
    "        # return 0*sampled_points+.5\n",
    "        return colors[:, :3]/255.\n",
    "\n",
    "    def get_grid_and_samples(self, n=512, device='cuda'):\n",
    "        grid = mesh_to_grid(self.v, self.f, n, device)\n",
    "        grid_points = grid.grid_to_world(grid.ijk.double()).jdata.cpu().detach().numpy()\n",
    "        sampled_points, sampled_normals = self.get_closest_watertight_samples(grid_points)\n",
    "        sampled_colors = self.get_closest_color(sampled_points)\n",
    "        return grid, sampled_points, sampled_normals, sampled_colors"
   ]
  },
  {
   "cell_type": "code",
   "execution_count": 11,
   "metadata": {},
   "outputs": [],
   "source": [
    "def process_GT(name, size=1024, targets=[512, 256, 128, 64, 32, 16], base_save_path=\"../../data/GT_sparse_tensors/\"):\n",
    "    ms = MeshSampler(name)\n",
    "    grid, sampled_points, sampled_normals, sampled_colors = ms.get_grid_and_samples(1024, 'cpu')\n",
    "    grid = grid.to('cuda')\n",
    "    if name==\"house\" or name==\"small-town\":\n",
    "        print(\"invert\")\n",
    "        sampled_colors=1-sampled_colors\n",
    "    sampled_colors = 2*((2*sampled_colors)-1) # scaling important for diffusion model\n",
    "    large_base_grid = PoNQ_grid(size)\n",
    "    large_base_grid.from_mesh(grid, sampled_points, sampled_normals, sampled_colors)\n",
    "    \n",
    "    # save\n",
    "    save_path = f\"{base_save_path}/{name}\"\n",
    "    for t_size in targets:\n",
    "        try:\n",
    "            os.mkdir(save_path)\n",
    "        except:\n",
    "            pass\n",
    "        large_base_grid = large_base_grid.get_pool(size//t_size)\n",
    "        large_base_grid.compute_local_offset()\n",
    "        DT = DiffusionTensor.get_tensor_from_data(large_base_grid.grid, large_base_grid.normals, large_base_grid.local_offset, large_base_grid.colors, torch.ones_like(large_base_grid.local_offset[:, :1]))\n",
    "        size = t_size\n",
    "        torch.save(DT, f\"{save_path}/{t_size}.pt\")\n",
    "        "
   ]
  },
  {
   "cell_type": "code",
   "execution_count": 12,
   "metadata": {},
   "outputs": [],
   "source": [
    "# os.mkdir('../../data/GT_sparse_tensors')\n",
    "# names = [e[:-4] for e in os.listdir('../../data/GT_GLB')]\n",
    "# for name in names:\n",
    "#     process_GT(name)"
   ]
  },
  {
   "cell_type": "code",
   "execution_count": 13,
   "metadata": {},
   "outputs": [],
   "source": [
    "DT = torch.load(\"../../data/GT_sparse_tensors/house/32.pt\", weights_only=False)"
   ]
  },
  {
   "cell_type": "code",
   "execution_count": 30,
   "metadata": {},
   "outputs": [],
   "source": [
    "import fvdb\n",
    "\n",
    "tens = fvdb.nn.VDBTensor(DT.grid, DT.grid.jagged_like(DT.jdata))\n",
    "\n",
    "\n",
    "tens.data.jdata += 1"
   ]
  },
  {
   "cell_type": "code",
   "execution_count": 32,
   "metadata": {},
   "outputs": [
    {
     "ename": "AttributeError",
     "evalue": "module 'fvdb' has no attribute 'cat'",
     "output_type": "error",
     "traceback": [
      "\u001b[31m---------------------------------------------------------------------------\u001b[39m",
      "\u001b[31mAttributeError\u001b[39m                            Traceback (most recent call last)",
      "\u001b[36mCell\u001b[39m\u001b[36m \u001b[39m\u001b[32mIn[32]\u001b[39m\u001b[32m, line 3\u001b[39m\n\u001b[32m      1\u001b[39m \u001b[38;5;28;01mimport\u001b[39;00m\u001b[38;5;250m \u001b[39m\u001b[34;01mfvdb\u001b[39;00m\n\u001b[32m----> \u001b[39m\u001b[32m3\u001b[39m \u001b[43mfvdb\u001b[49m\u001b[43m.\u001b[49m\u001b[43mcat\u001b[49m\n",
      "\u001b[31mAttributeError\u001b[39m: module 'fvdb' has no attribute 'cat'"
     ]
    }
   ],
   "source": [
    "import fvdb\n",
    "\n",
    "fvdb.cat"
   ]
  },
  {
   "cell_type": "code",
   "execution_count": null,
   "metadata": {},
   "outputs": [],
   "source": []
  },
  {
   "cell_type": "code",
   "execution_count": 9,
   "metadata": {},
   "outputs": [
    {
     "data": {
      "application/vnd.jupyter.widget-view+json": {
       "model_id": "9008ff8811bf4f3580d574c396d671d8",
       "version_major": 2,
       "version_minor": 0
      },
      "text/plain": [
       "Renderer(camera=PerspectiveCamera(children=(DirectionalLight(color='white', intensity=0.6, position=(6.8053603…"
      ]
     },
     "metadata": {},
     "output_type": "display_data"
    },
    {
     "data": {
      "text/plain": [
       "<meshplot.Viewer.Viewer at 0x7efc9c841790>"
      ]
     },
     "execution_count": 9,
     "metadata": {},
     "output_type": "execute_result"
    }
   ],
   "source": [
    "DT.get_global().colored_PC(.1)"
   ]
  }
 ],
 "metadata": {
  "kernelspec": {
   "display_name": "shapeshifter",
   "language": "python",
   "name": "python3"
  },
  "language_info": {
   "codemirror_mode": {
    "name": "ipython",
    "version": 3
   },
   "file_extension": ".py",
   "mimetype": "text/x-python",
   "name": "python",
   "nbconvert_exporter": "python",
   "pygments_lexer": "ipython3",
   "version": "3.11.11"
  }
 },
 "nbformat": 4,
 "nbformat_minor": 2
}
