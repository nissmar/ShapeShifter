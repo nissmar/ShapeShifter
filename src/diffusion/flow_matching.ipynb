{
 "cells": [
  {
   "cell_type": "code",
   "execution_count": 161,
   "metadata": {},
   "outputs": [],
   "source": [
    "import os\n",
    "os.chdir('/home/nmaruani/ShapeShifter')\n"
   ]
  },
  {
   "cell_type": "code",
   "execution_count": 162,
   "metadata": {},
   "outputs": [],
   "source": [
    "from src.diffusion.train_diffusion_colors import *\n",
    "import yaml\n",
    "from IPython.display import clear_output\n"
   ]
  },
  {
   "cell_type": "code",
   "execution_count": 163,
   "metadata": {},
   "outputs": [],
   "source": [
    "with open('/home/nmaruani/ShapeShifter/configs/train_diffusion_0.yaml', 'r') as f:\n",
    "    cfg = yaml.load(f, Loader=yaml.Loader)\n",
    "\n",
    "X0 = get_gt_data(cfg, 0, \"fighting-pillar\")\n",
    "device='cuda'"
   ]
  },
  {
   "cell_type": "code",
   "execution_count": null,
   "metadata": {},
   "outputs": [],
   "source": [
    "L = []\n",
    "LOSS_EMA = None\n",
    "model = DiffusionCNN(channels=cfg[\"features\"], layers=cfg[\"layers\"], time_emb=cfg[\"time_emb\"],\n",
    "                        one_layers=cfg[\"one_layers\"], first_ks=cfg[\"first_ks\"],\n",
    "                        in_channels=X0.jdata.shape[-1], out_channels=X0.jdata.shape[-1]).to(device)\n",
    "mt.count_parameters(model)\n",
    "\n",
    "optimizer = torch.optim.Adam(model.parameters(),\n",
    "                                lr=cfg[\"lr\"]\n",
    "                                )\n",
    "\n",
    "loss_fn = torch.nn.functional.mse_loss"
   ]
  },
  {
   "cell_type": "code",
   "execution_count": 165,
   "metadata": {},
   "outputs": [],
   "source": [
    "def train_epoch(optimizer, model):\n",
    "    global LOSS_EMA\n",
    "    \n",
    "    x_1 = X0.jdata\n",
    "    x_0 = torch.randn_like(X0.jdata)\n",
    "    t = torch.rand(X0.grid_count, 1, device=X0.device)\n",
    "    t = t[X0.feature.jidx.long()]\n",
    "    x_t = (1 - t) * x_0 + t * x_1    \n",
    "    XT = fvnn.VDBTensor(grid=X0.grid, feature=X0.grid.jagged_like(x_t))\n",
    "    optimizer.zero_grad()\n",
    "    loss = loss_fn(model(XT, t.flatten()).jdata, x_1) # REAL FM is (x1-x0)\n",
    "    loss.backward()\n",
    "    optimizer.step()\n",
    "    if LOSS_EMA is None:\n",
    "        LOSS_EMA = loss.item()\n",
    "    else:\n",
    "        LOSS_EMA = 0.99 * LOSS_EMA + 0.01 * loss.item()\n",
    "    L.append(LOSS_EMA)\n",
    "train_epoch(optimizer, model)"
   ]
  },
  {
   "cell_type": "code",
   "execution_count": null,
   "metadata": {},
   "outputs": [],
   "source": [
    "model.train()\n",
    "for i in tqdm(range(cfg[\"epochs\"])):\n",
    "    train_epoch(optimizer, model)\n",
    "    if i % cfg[\"save_every\"] == 0 or i == cfg[\"epochs\"]-1:\n",
    "        clear_output(True)\n",
    "        plt.plot(L, label='canyon')\n",
    "        plt.yscale('log')\n",
    "        plt.legend()\n",
    "        plt.show()"
   ]
  },
  {
   "cell_type": "code",
   "execution_count": 167,
   "metadata": {},
   "outputs": [],
   "source": [
    "### Sampling+"
   ]
  },
  {
   "cell_type": "code",
   "execution_count": null,
   "metadata": {},
   "outputs": [],
   "source": [
    "# def model_step(model, XT, t_start, t_end):\n",
    "#     with torch.no_grad():\n",
    "#         TSTART = t_start.view(1).expand(len(XT.jdata))        \n",
    "#         F1 = model(XT, TSTART)\n",
    "#         F1.feature.jdata *= (t_end - t_start) / 2\n",
    "#         F1.feature.jdata += XT.jdata\n",
    "        \n",
    "#         F2 = model(F1, TSTART + (t_end - t_start) / 2)\n",
    "#         F2.feature.jdata *= (t_end - t_start)\n",
    "#         F2.feature.jdata += XT.jdata\n",
    "        \n",
    "#         return F2\n",
    "    \n",
    "def model_step(model, XT, X0data, t_start, t_end):\n",
    "    with torch.no_grad():\n",
    "        TSTART = t_start.view(1).expand(len(XT.jdata))        \n",
    "        F1 = model(XT, TSTART)\n",
    "        F1.feature.jdata -= X0data\n",
    "        F1.feature.jdata *= (t_end - t_start) / 2\n",
    "        F1.feature.jdata += XT.jdata\n",
    "        \n",
    "        F2 = model(F1, TSTART + (t_end - t_start) / 2)\n",
    "        F2.feature.jdata -= X0data\n",
    "        F2.feature.jdata *= (t_end - t_start)\n",
    "        F2.feature.jdata += XT.jdata\n",
    "        \n",
    "        return F2\n",
    "        \n",
    "        \n",
    "i=0\n",
    "n_steps = 200\n",
    "time_steps = torch.linspace(0, 1.0, n_steps + 1, device=device)\n",
    "\n",
    "X = fvnn.VDBTensor(grid=X0.grid, feature=X0.grid.jagged_like(torch.randn_like(X0.jdata)))\n",
    "X0data = X.jdata.clone()\n",
    "for i in tqdm(range(n_steps)):\n",
    "    X = model_step(model, X, X0data, time_steps[i], time_steps[i+1])"
   ]
  },
  {
   "cell_type": "code",
   "execution_count": null,
   "metadata": {},
   "outputs": [],
   "source": [
    "for ind in range(4):\n",
    "    disp_d = DiffusionTensor(X.grid[ind], X.feature[ind]).remove_mask()\n",
    "    # disp_d.get_global().colored_PC(.07)\n",
    "\n",
    "    c=(disp_d.feature.jdata[:, 6:9].cpu().detach().numpy()+2)/4\n",
    "    plot(*grid_to_mesh(disp_d.grid, colors=c), shading={'wireframe':True})"
   ]
  },
  {
   "cell_type": "code",
   "execution_count": null,
   "metadata": {},
   "outputs": [],
   "source": []
  },
  {
   "cell_type": "code",
   "execution_count": null,
   "metadata": {},
   "outputs": [],
   "source": []
  },
  {
   "cell_type": "code",
   "execution_count": null,
   "metadata": {},
   "outputs": [],
   "source": []
  }
 ],
 "metadata": {
  "kernelspec": {
   "display_name": "fvdb_test",
   "language": "python",
   "name": "python3"
  },
  "language_info": {
   "codemirror_mode": {
    "name": "ipython",
    "version": 3
   },
   "file_extension": ".py",
   "mimetype": "text/x-python",
   "name": "python",
   "nbconvert_exporter": "python",
   "pygments_lexer": "ipython3",
   "version": "3.10.14"
  }
 },
 "nbformat": 4,
 "nbformat_minor": 2
}
