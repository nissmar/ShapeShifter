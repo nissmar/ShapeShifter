{
 "cells": [
  {
   "cell_type": "code",
   "execution_count": null,
   "metadata": {},
   "outputs": [],
   "source": [
    "import sys\n",
    "sys.path.append('../utils')\n",
    "from eval import load_diffusion, compute_base_grid\n",
    "import time\n",
    "from train_flow_matching import *\n",
    "import mesh_tools as mt"
   ]
  },
  {
   "cell_type": "code",
   "execution_count": null,
   "metadata": {},
   "outputs": [],
   "source": [
    "BASE_RES = 16\n",
    "BATCH_SIZE = 10\n",
    "device='cuda'\n",
    "SRC = '../../experiments_fm'"
   ]
  },
  {
   "cell_type": "code",
   "execution_count": null,
   "metadata": {},
   "outputs": [],
   "source": [
    "def generate_input(generated_X, sparse_fm):\n",
    "    with torch.no_grad():\n",
    "        sparse_fm.model_upsampler.eval()\n",
    "        input_X = sparse_fm.model_upsampler(\n",
    "            generated_X, generated_X.trilinear_upsample()).detach()\n",
    "        times = torch.zeros((input_X.grid_count,), device=generated_X.device).float()\n",
    "        times = times[input_X.feature.jidx.long()]\n",
    "        input_X.feature.jdata = sparse_fm.add_x0_noise(input_X)\n",
    "        return input_X\n",
    "\n",
    "def generate_level(generated_X, i, example_mesh_name, src, n_steps):\n",
    "    sparse_fm = load_diffusion(example_mesh_name, i, src)\n",
    "    sparse_fm.eval()\n",
    "    t0 = time.time()\n",
    "    new_XT = generate_input(generated_X, sparse_fm)\n",
    "    generated_X = sparse_fm.reverse_sample(new_XT, n_steps)\n",
    "    return DiffusionTensor.from_vdb(generated_X).remove_mask()\n"
   ]
  },
  {
   "cell_type": "code",
   "execution_count": null,
   "metadata": {},
   "outputs": [],
   "source": [
    "def compute_all_generations(example_mesh_name, src, base_res, max_level=3, eval_batch_size=10, features=10, f_steps = 100, n_steps=100, X0G=None):\n",
    "    generated_Xs = []\n",
    "    # blurs = []\n",
    "    sparse_fm = load_diffusion(example_mesh_name, 0, src)\n",
    "    sparse_fm.eval()\n",
    "    if X0G is None:\n",
    "        X0G = compute_base_grid(example_mesh_name, eval_batch_size, base_res)\n",
    "    X = grid_to_VDB(X0G, torch.randn, [features])\n",
    "    t0 = time.time()\n",
    "    generated_X = sparse_fm.reverse_sample(X, f_steps)\n",
    "    generated_X = DiffusionTensor.from_vdb(generated_X).remove_mask()\n",
    "\n",
    "    generated_Xs.append(generated_X)\n",
    "\n",
    "    for i in range(1, max_level+1):\n",
    "        generated_X = generate_level(\n",
    "            generated_X, i, example_mesh_name, src, n_steps)\n",
    "        generated_Xs.append(generated_X)\n",
    "    return generated_Xs"
   ]
  },
  {
   "cell_type": "code",
   "execution_count": null,
   "metadata": {},
   "outputs": [],
   "source": [
    "mesh_name = \"small-town\"\n",
    "\n",
    "with torch.no_grad():\n",
    "    GX = compute_all_generations(mesh_name, SRC, BASE_RES, 4, eval_batch_size=BATCH_SIZE, f_steps=200, n_steps=100)"
   ]
  },
  {
   "cell_type": "code",
   "execution_count": null,
   "metadata": {},
   "outputs": [],
   "source": [
    "tens = GX[-1]\n",
    "\n",
    "for ind in range(BATCH_SIZE):\n",
    "    disp_d = DiffusionTensor(tens.grid[ind], tens.feature[ind]).remove_mask()\n",
    "    disp_d.get_global().colored_PC(.08)\n",
    "    \n",
    "    # c=(disp_d.feature.jdata[:, 6:9].cpu().detach().numpy()+2)/4\n",
    "    # plot(*grid_to_mesh(disp_d.grid, colors=c), shading={'wireframe':True})"
   ]
  },
  {
   "cell_type": "code",
   "execution_count": null,
   "metadata": {},
   "outputs": [],
   "source": []
  }
 ],
 "metadata": {
  "kernelspec": {
   "display_name": "fvdb_test",
   "language": "python",
   "name": "python3"
  },
  "language_info": {
   "codemirror_mode": {
    "name": "ipython",
    "version": 3
   },
   "file_extension": ".py",
   "mimetype": "text/x-python",
   "name": "python",
   "nbconvert_exporter": "python",
   "pygments_lexer": "ipython3",
   "version": "3.10.14"
  }
 },
 "nbformat": 4,
 "nbformat_minor": 2
}
