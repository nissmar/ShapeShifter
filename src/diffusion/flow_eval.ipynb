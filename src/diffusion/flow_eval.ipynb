{
 "cells": [
  {
   "cell_type": "code",
   "execution_count": 1,
   "metadata": {},
   "outputs": [],
   "source": [
    "import sys\n",
    "sys.path.append('../utils')\n",
    "from eval import load_diffusion, compute_base_grid\n",
    "import time\n",
    "from train_flow_matching import *\n",
    "import mesh_tools as mt"
   ]
  },
  {
   "cell_type": "code",
   "execution_count": 2,
   "metadata": {},
   "outputs": [],
   "source": [
    "BASE_RES = 16\n",
    "BATCH_SIZE = 10\n",
    "device='cuda'\n",
    "SRC = '../../experiments_fm'"
   ]
  },
  {
   "cell_type": "code",
   "execution_count": 3,
   "metadata": {},
   "outputs": [],
   "source": [
    "def p1_to_flow(model, XT, T):\n",
    "    p1 = model(XT, T)\n",
    "    p1.feature.jdata = (p1.jdata-XT.jdata)/(1-T[:, None])\n",
    "    return p1\n",
    "    \n",
    "@torch.no_grad()\n",
    "def model_step(model, XT, t_start, t_end):\n",
    "    TSTART = t_start.view(1).expand(len(XT.jdata))\n",
    "    TEND = t_end.view(1).expand(len(XT.jdata))\n",
    "    p1 = p1_to_flow(model, XT, TSTART)\n",
    "    p1.feature.jdata *= (TEND-TSTART)[:, None]/2.\n",
    "    p1.feature.jdata += XT.jdata\n",
    "    p2 = p1_to_flow(model, p1, TSTART+ (TEND-TSTART)/2.)\n",
    "    p2.feature.jdata *= (TEND-TSTART)[:, None]\n",
    "    p2.feature.jdata += XT.jdata\n",
    "    \n",
    "    return p2\n",
    "\n",
    "@torch.no_grad()\n",
    "def sample(model, XB, n_steps):\n",
    "    time_steps = torch.linspace(0, 1.0, n_steps + 1, device=device)\n",
    "    model.eval()\n",
    "    for i in tqdm(range(n_steps-1)):\n",
    "        XB = model_step(model, XB, time_steps[i], time_steps[i+1])\n",
    "    XB = model(XB, time_steps[-2].view(1).expand(len(XB.jdata)))\n",
    "    return XB\n"
   ]
  },
  {
   "cell_type": "code",
   "execution_count": 4,
   "metadata": {},
   "outputs": [],
   "source": [
    "def generate_input(generated_X, sparse_fm):\n",
    "    with torch.no_grad():\n",
    "        sparse_fm.model_upsampler.eval()\n",
    "        input_X = sparse_fm.model_upsampler(\n",
    "            generated_X, generated_X.trilinear_upsample()).detach()\n",
    "        times = torch.zeros((input_X.grid_count,), device=generated_X.device).float()\n",
    "        times = times[input_X.feature.jidx.long()]\n",
    "        input_X.feature.jdata = sparse_fm.add_x0_noise(input_X)\n",
    "        return input_X\n",
    "\n",
    "def generate_level(generated_X, i, example_mesh_name, src, n_steps):\n",
    "    sparse_fm = load_diffusion(example_mesh_name, i, src)\n",
    "    sparse_fm.eval()\n",
    "    t0 = time.time()\n",
    "    new_XT = generate_input(generated_X, sparse_fm)\n",
    "    generated_X = sample(sparse_fm.model, new_XT, n_steps)\n",
    "    return DiffusionTensor.from_vdb(generated_X).remove_mask()\n"
   ]
  },
  {
   "cell_type": "code",
   "execution_count": 5,
   "metadata": {},
   "outputs": [],
   "source": [
    "def compute_all_generations(example_mesh_name, src, base_res, max_level=3, eval_batch_size=10, features=10, n_steps=100, X0G=None):\n",
    "    generated_Xs = []\n",
    "    # blurs = []\n",
    "    sparse_fm = load_diffusion(example_mesh_name, 0, src)\n",
    "    sparse_fm.eval()\n",
    "    if X0G is None:\n",
    "        X0G = compute_base_grid(example_mesh_name, eval_batch_size, base_res)\n",
    "    X = grid_to_VDB(X0G, torch.randn, [features])\n",
    "    t0 = time.time()\n",
    "    generated_X = sample(sparse_fm.model, X, n_steps)\n",
    "    generated_X = DiffusionTensor.from_vdb(generated_X).remove_mask()\n",
    "\n",
    "    generated_Xs.append(generated_X)\n",
    "\n",
    "    for i in range(1, max_level+1):\n",
    "        generated_X = generate_level(\n",
    "            generated_X, i, example_mesh_name, src, n_steps)\n",
    "        generated_Xs.append(generated_X)\n",
    "    return generated_Xs"
   ]
  },
  {
   "cell_type": "code",
   "execution_count": 6,
   "metadata": {},
   "outputs": [
    {
     "name": "stderr",
     "output_type": "stream",
     "text": [
      "100%|██████████| 9/9 [00:00<00:00, 50.17it/s]\n",
      "100%|██████████| 9/9 [00:00<00:00, 108.31it/s]\n",
      "100%|██████████| 9/9 [00:00<00:00, 76.41it/s]\n",
      "100%|██████████| 9/9 [00:00<00:00, 19.37it/s]\n"
     ]
    }
   ],
   "source": [
    "with torch.no_grad():\n",
    "    GX = compute_all_generations(\"canyon\", SRC, BASE_RES, 3, eval_batch_size=BATCH_SIZE, n_steps=10)"
   ]
  },
  {
   "cell_type": "code",
   "execution_count": 8,
   "metadata": {},
   "outputs": [
    {
     "data": {
      "application/vnd.jupyter.widget-view+json": {
       "model_id": "c6354b5ee74d4ea5832e38b5e53c7b58",
       "version_major": 2,
       "version_minor": 0
      },
      "text/plain": [
       "Renderer(camera=PerspectiveCamera(children=(DirectionalLight(color='white', intensity=0.6, position=(4.7743320…"
      ]
     },
     "metadata": {},
     "output_type": "display_data"
    },
    {
     "data": {
      "application/vnd.jupyter.widget-view+json": {
       "model_id": "61fa13fbb3f14469b362b2f23d63b7db",
       "version_major": 2,
       "version_minor": 0
      },
      "text/plain": [
       "Renderer(camera=PerspectiveCamera(children=(DirectionalLight(color='white', intensity=0.6, position=(-7.227063…"
      ]
     },
     "metadata": {},
     "output_type": "display_data"
    }
   ],
   "source": [
    "tens = GX[-1]\n",
    "\n",
    "for ind in range(2):\n",
    "    disp_d = DiffusionTensor(tens.grid[ind], tens.feature[ind]).remove_mask()\n",
    "    disp_d.get_global().colored_PC(.12)\n",
    "\n",
    "    # c=(disp_d.feature.jdata[:, 6:9].cpu().detach().numpy()+2)/4\n",
    "    # plot(*grid_to_mesh(disp_d.grid, colors=c), shading={'wireframe':True})"
   ]
  }
 ],
 "metadata": {
  "kernelspec": {
   "display_name": "fvdb_test",
   "language": "python",
   "name": "python3"
  },
  "language_info": {
   "codemirror_mode": {
    "name": "ipython",
    "version": 3
   },
   "file_extension": ".py",
   "mimetype": "text/x-python",
   "name": "python",
   "nbconvert_exporter": "python",
   "pygments_lexer": "ipython3",
   "version": "3.10.14"
  }
 },
 "nbformat": 4,
 "nbformat_minor": 2
}
