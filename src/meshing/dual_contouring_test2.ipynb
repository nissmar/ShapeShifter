{
 "cells": [
  {
   "cell_type": "markdown",
   "metadata": {},
   "source": [
    "# Algo \n",
    "\n",
    "- Label dilated grid dual using primal information + outer values \n",
    "- Propagate primal label in dilated grid\n",
    "- "
   ]
  },
  {
   "cell_type": "code",
   "execution_count": 1,
   "metadata": {},
   "outputs": [],
   "source": [
    "import sys\n",
    "sys.path.append('../utils')\n",
    "import fvdb.nn as fvnn\n",
    "import torch \n",
    "import igl\n",
    "from diffusion_tensor import *\n",
    "import mesh_tools as mt\n",
    "import matplotlib.pyplot as plt\n",
    "from fvdb_utils import show_vdb_marching_cubes, grid_to_VDB, vdb_marching_cubes\n",
    "from tqdm import tqdm\n",
    "import pymeshlab as ml\n"
   ]
  },
  {
   "cell_type": "markdown",
   "metadata": {},
   "source": [
    "### Utils"
   ]
  },
  {
   "cell_type": "code",
   "execution_count": 48,
   "metadata": {},
   "outputs": [],
   "source": [
    "def create_dilated_grid(grid:fvdb.GridBatch):\n",
    "    dilated_ijk = grid.ijk.jdata.clone()\n",
    "    dilated_ijk = dilated_ijk[:, None] + torch.tensor(mt.mesh_grid(3, True), device=dilated_ijk.device)\n",
    "    dilated_ijk = dilated_ijk.view(-1, 3).long()\n",
    "    return fvdb.sparse_grid_from_ijk(dilated_ijk, origins=grid.origins, voxel_sizes=grid.voxel_sizes)\n",
    "\n",
    "\n",
    "def label_dilated_crust(source_tensor: fvnn.VDBTensor, dilated_grid: fvdb.GridBatch):\n",
    "    '''Label dilated grid based on the normal orientation: 0 (intersects surface), 1 or -1 (resp. strictly outside/inside)'''\n",
    "    dilated_grid = create_dilated_grid(source_tensor.grid)\n",
    "    dilated_crust_tensor = grid_to_VDB(dilated_grid, torch.ones, additional_feat=[1])\n",
    "    dilated_centers = dilated_grid.grid_to_world(dilated_grid.ijk.float())\n",
    "    neighbors = source_tensor.grid.neighbor_indexes(dilated_crust_tensor.grid.ijk, 1)\n",
    "    \n",
    "    # assign existing voxels to 0\n",
    "    in_source_mask = neighbors.jdata[:, 1, 1, 1]!=-1\n",
    "    \n",
    "    # --> Decide sign\n",
    "    flat_neighbors = neighbors.jdata.view(-1, 27)\n",
    "    normals, vstars, _, _ = DiffusionTensor.get_feature_data(source_tensor.get_global().jdata)\n",
    "    local_delta = (dilated_centers.jdata.unsqueeze(1)-vstars[flat_neighbors])\n",
    "    local_sdf = (local_delta*normals[flat_neighbors]).sum(-1)\n",
    "    local_sdf[flat_neighbors==-1] = 0\n",
    "    local_sdf = local_sdf.sum(-1)/(flat_neighbors!=-1).sum(-1)\n",
    "\n",
    "    dilated_crust_tensor.feature.jdata = local_sdf[:, None]\n",
    "    dilated_crust_tensor.feature.jdata[in_source_mask] = 0\n",
    "    \n",
    "    return dilated_crust_tensor\n",
    "\n",
    "def label_dual_grid(dilated_grid: fvdb.GridBatch, dilated_crust_tensor: fvnn.VDBTensor, source_tensor: fvnn.VDBTensor):\n",
    "    '''label dual of dilated grid based on crust information. Disambiguate internal vertices with normal information'''\n",
    "    dual_grid = dilated_grid.dual_grid()\n",
    "    dual_centers = dual_grid.grid_to_world(dual_grid.ijk.float())\n",
    "    dilated_centers = dilated_grid.grid_to_world(dilated_grid.ijk.float())\n",
    "    \n",
    "\n",
    "    new_feature = dual_grid.splat_trilinear(dilated_centers, dilated_crust_tensor.feature)\n",
    "    dual_tensor = fvdb.nn.VDBTensor(dual_grid, new_feature)\n",
    "    \n",
    "    # label unlabeled (internal) voxels \n",
    "    is_unlabeled = (dual_tensor.feature.jdata==0).squeeze()\n",
    "    offset = -1 + torch.tensor([[0, 0, 0], [1, 0, 0], [0, 1, 0], [0, 0, 1], [1, 1, 0], [1, 0, 1], [0, 1, 1], [1, 1, 1]], device=is_unlabeled.device)\n",
    "\n",
    "    primal_ijk = (dual_tensor.grid.ijk.jdata[is_unlabeled][:, None, :] + offset[None, :]).view(-1, 3)\n",
    "    primal_index = source_tensor.grid.ijk_to_index(primal_ijk, 1).jdata.view(-1, 8)\n",
    "    normals, vstars, _, _ = DiffusionTensor.get_feature_data(source_tensor.get_global().jdata)\n",
    "\n",
    "    guess_sign = (normals[primal_index]*(dual_centers.jdata[is_unlabeled][:, None, :]-vstars[primal_index])).sum(-1).mean(-1)\n",
    "\n",
    "    dual_tensor.feature.jdata[is_unlabeled] = guess_sign.unsqueeze(-1)\n",
    "    dual_tensor.feature.jdata = torch.sign(dual_tensor.feature.jdata)\n",
    "    return dual_tensor\n",
    "\n",
    "def assign_dilated_vstars(source_tensor: fvnn.VDBTensor, dilated_grid: fvdb.GridBatch):\n",
    "    '''create vstars in adjacent voxels'''\n",
    "    dilated_grid = create_dilated_grid(source_tensor.grid)\n",
    "    dilated_tensor = grid_to_VDB(dilated_grid, torch.ones, additional_feat=[source_tensor.jdata.shape[-1]])\n",
    "\n",
    "    neighbors = source_tensor.grid.neighbor_indexes(dilated_tensor.grid.ijk, 1)\n",
    "    \n",
    "    # assign existing voxels to 0\n",
    "    in_source_mask = neighbors.jdata[:, 1, 1, 1]!=-1\n",
    "    \n",
    "    # --> Decide sign\n",
    "    flat_neighbors = neighbors.jdata.view(-1, 27)\n",
    "    \n",
    "    out_feat = source_tensor.jdata[flat_neighbors]\n",
    "    out_feat[flat_neighbors==-1] = 0\n",
    "\n",
    "    out_feat = out_feat.sum(-2)/(flat_neighbors!=-1).sum(-1, True)\n",
    "\n",
    "    dilated_tensor.feature.jdata = out_feat\n",
    "    dilated_tensor.feature.jdata[in_source_mask] = source_tensor.jdata[neighbors.jdata[:, 1, 1, 1][in_source_mask]]\n",
    "\n",
    "    return dilated_tensor, in_source_mask\n"
   ]
  },
  {
   "cell_type": "code",
   "execution_count": 56,
   "metadata": {},
   "outputs": [],
   "source": [
    "\n",
    "def dual_contouring(dual_tensor: fvnn.VDBTensor):\n",
    "    ''' dual_tensor: sign on corner vertices\n",
    "        based on dual edges (neighbors in the graph)'''\n",
    "    dual_neighbors = dual_tensor.grid.neighbor_indexes(dual_tensor.grid.ijk, 1).jdata\n",
    "    sign_data = dual_tensor.jdata.sign().squeeze()\n",
    "    if 0 in sign_data:\n",
    "        print('WARNING, WRONG SIGN DATA')\n",
    "\n",
    "    dkx = dual_neighbors[:, 2, 1, 1]\n",
    "    active_dkx = ((sign_data*sign_data[dkx])==-1)*(dkx!=-1)\n",
    "\n",
    "    dky = dual_neighbors[:, 1, 2, 1]\n",
    "    active_dky = ((sign_data*sign_data[dky])==-1)*(dky!=-1)\n",
    "\n",
    "    dkz = dual_neighbors[:, 1, 1, 2]\n",
    "    active_dkz = ((sign_data*sign_data[dkz])==-1)*(dkz!=-1)\n",
    "    \n",
    "    dkx_face_idx = torch.tensor([[0, -1, -1], [0, 0, -1], [0, 0, 0], [0, -1, 0]], device=dkx.device)\n",
    "    dky_face_idx = torch.tensor([[-1, 0, 0], [0, 0, 0], [0, 0, -1], [-1, 0, -1]], device=dky.device)\n",
    "    dkz_face_idx = torch.tensor([[-1, -1, 0], [0, -1, 0], [0, 0, 0], [-1, 0, 0]], device=dkz.device)\n",
    "\n",
    "\n",
    "    faces = []\n",
    "    for dk_face_idx, active_dk in zip([dkx_face_idx, dky_face_idx, dkz_face_idx], [active_dkx,  active_dky, active_dkz]):\n",
    "        face_idx = (dk_face_idx[:, None] + dual_tensor.grid.ijk.jdata[active_dk][None, :]).permute((1, 0, 2))\n",
    "        face_idx[sign_data[active_dk]>0] = face_idx[sign_data[active_dk]>0].flip(1)\n",
    "        faces.append(face_idx)\n",
    "    return torch.concatenate(faces)\n",
    "\n",
    "def faces_ijk_to_index(candidate_faces: torch.tensor, source_grid: fvdb.GridBatch):\n",
    "    df = source_grid.ijk_to_index(candidate_faces.view(-1, 3)).jdata.view(-1, 4)\n",
    "    return df"
   ]
  },
  {
   "cell_type": "markdown",
   "metadata": {},
   "source": [
    "### Dev mode"
   ]
  },
  {
   "cell_type": "code",
   "execution_count": 59,
   "metadata": {},
   "outputs": [],
   "source": [
    "ind=2\n",
    "tens = torch.load('../../output/acropolis/gen_0_4.pt', weights_only=False)\n",
    "source_tensor = DiffusionTensor(tens.grid[ind], tens.feature[ind]).remove_mask()"
   ]
  },
  {
   "cell_type": "code",
   "execution_count": 60,
   "metadata": {},
   "outputs": [],
   "source": [
    "\n",
    "\n",
    "dilated_grid = create_dilated_grid(source_tensor.grid)\n",
    "dilated_crust_tensor = label_dilated_crust(source_tensor, dilated_grid)\n",
    "dual_tensor = label_dual_grid(dilated_grid, dilated_crust_tensor, source_tensor)\n",
    "dilated_tensor, in_source_mask = assign_dilated_vstars(source_tensor.get_global(), dilated_grid)\n",
    "\n",
    "\n",
    "candidate_faces = dual_contouring(dual_tensor)\n",
    "faces = faces_ijk_to_index(candidate_faces, dilated_tensor.grid)\n",
    "faces = faces[(faces!=-1).all(-1)]\n",
    "_, vstars, _, _ = DiffusionTensor.get_feature_data(dilated_tensor.jdata)"
   ]
  },
  {
   "cell_type": "code",
   "execution_count": 72,
   "metadata": {},
   "outputs": [
    {
     "data": {
      "text/plain": [
       "array([[-0.88288313, -0.24309044, -0.40174899],\n",
       "       [-0.88298166, -0.24316064, -0.39824712],\n",
       "       [-0.88309115, -0.2430131 , -0.39441347],\n",
       "       ...,\n",
       "       [ 0.8307246 ,  0.19292234,  0.368812  ],\n",
       "       [ 0.841833  ,  0.18112609,  0.36912334],\n",
       "       [ 0.8451569 ,  0.18033078,  0.36972064]], dtype=float32)"
      ]
     },
     "execution_count": 72,
     "metadata": {},
     "output_type": "execute_result"
    }
   ],
   "source": [
    "vstars.cpu().detach().numpy()"
   ]
  },
  {
   "cell_type": "code",
   "execution_count": 79,
   "metadata": {},
   "outputs": [
    {
     "data": {
      "text/plain": [
       "346728"
      ]
     },
     "execution_count": 79,
     "metadata": {},
     "output_type": "execute_result"
    }
   ],
   "source": [
    "faces.cpu().detach().numpy().max()"
   ]
  },
  {
   "cell_type": "code",
   "execution_count": 77,
   "metadata": {},
   "outputs": [
    {
     "data": {
      "text/plain": [
       "dtype('float64')"
      ]
     },
     "execution_count": 77,
     "metadata": {},
     "output_type": "execute_result"
    }
   ],
   "source": [
    "vstars.cpu().double().detach().numpy().dtype"
   ]
  },
  {
   "cell_type": "code",
   "execution_count": 87,
   "metadata": {},
   "outputs": [],
   "source": [
    "ms = ml.MeshSet()\n",
    "nmesh = ml.Mesh(vstars.cpu().double().detach().numpy(), faces.cpu().detach().numpy().astype(np.int32))\n",
    "ms.add_mesh(nmesh)\n",
    "ms.save_current_mesh('test_pc.ply')"
   ]
  },
  {
   "cell_type": "code",
   "execution_count": 70,
   "metadata": {},
   "outputs": [
    {
     "name": "stdout",
     "output_type": "stream",
     "text": [
      "\u001b[0;31mDocstring:\u001b[0m      <no docstring>\n",
      "\u001b[0;31mInit docstring:\u001b[0m\n",
      "__init__(*args, **kwargs)\n",
      "Overloaded function.\n",
      "\n",
      "1. __init__(self: pymeshlab.pmeshlab.Mesh, vertex_matrix: numpy.ndarray[numpy.float64[m, 3]] = array([], shape=(0, 3), dtype=float64), face_matrix: numpy.ndarray[numpy.int32[m, 3]] = array([], shape=(0, 3), dtype=int32), edge_matrix: numpy.ndarray[numpy.int32[m, 2]] = array([], shape=(0, 2), dtype=int32), v_normals_matrix: numpy.ndarray[numpy.float64[m, 3]] = array([], shape=(0, 3), dtype=float64), f_normals_matrix: numpy.ndarray[numpy.float64[m, 3]] = array([], shape=(0, 3), dtype=float64), v_scalar_array: numpy.ndarray[numpy.float64[m, 1]] = array([], dtype=float64), f_scalar_array: numpy.ndarray[numpy.float64[m, 1]] = array([], dtype=float64), v_color_matrix: numpy.ndarray[numpy.float64[m, 4]] = array([], shape=(0, 4), dtype=float64), f_color_matrix: numpy.ndarray[numpy.float64[m, 4]] = array([], shape=(0, 4), dtype=float64), v_tex_coords_matrix: numpy.ndarray[numpy.float64[m, 2]] = array([], shape=(0, 2), dtype=float64), w_tex_coords_matrix: numpy.ndarray[numpy.float64[m, 2]] = array([], shape=(0, 2), dtype=float64)) -> None\n",
      "\n",
      "Creates a mesh containing the data passed as input. If no data is passed as argument, an empty mesh will be created. Color matrices have four columns (RGBA) and values are floats in the range [0-1]. Values outside this range will result in undefined behaviour. Wedge texture coordinates must be a matrix of NF*3 rows ant two columns (a texture coordinate for each edge of each triangle of the mesh).\n",
      "\n",
      "2. __init__(self: pymeshlab.pmeshlab.Mesh, vertex_matrix: numpy.ndarray[numpy.float64[m, 3]], face_list_of_indices: list[numpy.ndarray[numpy.uint32[m, 1]]], v_normals_matrix: numpy.ndarray[numpy.float64[m, 3]] = array([], shape=(0, 3), dtype=float64), f_normals_matrix: numpy.ndarray[numpy.float64[m, 3]] = array([], shape=(0, 3), dtype=float64), v_scalar_array: numpy.ndarray[numpy.float64[m, 1]] = array([], dtype=float64), f_scalar_array: numpy.ndarray[numpy.float64[m, 1]] = array([], dtype=float64), v_color_matrix: numpy.ndarray[numpy.float64[m, 4]] = array([], shape=(0, 4), dtype=float64), f_color_matrix: numpy.ndarray[numpy.float64[m, 4]] = array([], shape=(0, 4), dtype=float64), v_tex_coords_matrix: numpy.ndarray[numpy.float64[m, 2]] = array([], shape=(0, 2), dtype=float64)) -> None\n",
      "\n",
      "Creates a polygon mesh containing the data passed as input. At least a numpy array of vertices and a list of numpy arrays of face indices is required. Since MeshLab and PyMeshLab can store only triangle meshes, the newly created mesh is actually a triangle mesh with some edges that are marked as 'faux'. This constructor creates a custom per face scalar attribute called `poly_birth_faces` that stores, for each face of the newly created mesh, the index of the polygonal mesh that generated it.Color matrices have four columns (RGBA) and values are floats in the range [0-1]. Values outside this range will result in undefined behaviour.\n",
      "\u001b[0;31mFile:\u001b[0m           ~/anaconda3/envs/fvdb_test/lib/python3.10/site-packages/pymeshlab/pmeshlab.cpython-310-x86_64-linux-gnu.so\n",
      "\u001b[0;31mType:\u001b[0m           pybind11_type\n",
      "\u001b[0;31mSubclasses:\u001b[0m     "
     ]
    }
   ],
   "source": [
    "ml.Mesh?"
   ]
  },
  {
   "cell_type": "code",
   "execution_count": 68,
   "metadata": {},
   "outputs": [],
   "source": [
    "tm = trimesh.Trimesh(vstars.cpu().detach().numpy(), faces.cpu().detach().numpy(), process=False)\n"
   ]
  },
  {
   "cell_type": "code",
   "execution_count": null,
   "metadata": {},
   "outputs": [],
   "source": [
    "tm.save"
   ]
  },
  {
   "cell_type": "code",
   "execution_count": 61,
   "metadata": {},
   "outputs": [
    {
     "data": {
      "application/vnd.jupyter.widget-view+json": {
       "model_id": "8869f546c01946748677d1c166b9963f",
       "version_major": 2,
       "version_minor": 0
      },
      "text/plain": [
       "interactive(children=(IntSlider(value=114, description='s', max=227), Output()), _dom_classes=('widget-interac…"
      ]
     },
     "metadata": {},
     "output_type": "display_data"
    },
    {
     "data": {
      "text/plain": [
       "<function mesh_tools.plotSlice.<locals>.<lambda>(s)>"
      ]
     },
     "execution_count": 61,
     "metadata": {},
     "output_type": "execute_result"
    }
   ],
   "source": [
    "mt.plotSlice(source_tensor.to_dense()[0, ..., 6].cpu().detach().numpy(), 1.)"
   ]
  },
  {
   "cell_type": "code",
   "execution_count": 62,
   "metadata": {},
   "outputs": [
    {
     "data": {
      "application/vnd.jupyter.widget-view+json": {
       "model_id": "2435f65c0a944add9d02312d4c5a9063",
       "version_major": 2,
       "version_minor": 0
      },
      "text/plain": [
       "interactive(children=(IntSlider(value=115, description='s', max=229), Output()), _dom_classes=('widget-interac…"
      ]
     },
     "metadata": {},
     "output_type": "display_data"
    },
    {
     "data": {
      "text/plain": [
       "<function mesh_tools.plotSlice.<locals>.<lambda>(s)>"
      ]
     },
     "execution_count": 62,
     "metadata": {},
     "output_type": "execute_result"
    }
   ],
   "source": [
    "mt.plotSlice(dilated_crust_tensor.to_dense()[0, ..., 0].cpu().detach().numpy(), .001)"
   ]
  },
  {
   "cell_type": "code",
   "execution_count": 63,
   "metadata": {},
   "outputs": [],
   "source": [
    "# mt.export_obj(*vdb_marching_cubes(dual_tensor), 'mc4')"
   ]
  },
  {
   "cell_type": "code",
   "execution_count": 64,
   "metadata": {},
   "outputs": [
    {
     "data": {
      "text/plain": [
       "torch.Size([346783])"
      ]
     },
     "execution_count": 64,
     "metadata": {},
     "output_type": "execute_result"
    }
   ],
   "source": [
    "in_source_mask.shape"
   ]
  },
  {
   "cell_type": "code",
   "execution_count": 41,
   "metadata": {},
   "outputs": [
    {
     "data": {
      "application/vnd.jupyter.widget-view+json": {
       "model_id": "c5b50e7f2fb248e984998db632adc9e3",
       "version_major": 2,
       "version_minor": 0
      },
      "text/plain": [
       "Renderer(camera=PerspectiveCamera(children=(DirectionalLight(color='white', intensity=0.6, position=(-0.000225…"
      ]
     },
     "metadata": {},
     "output_type": "display_data"
    }
   ],
   "source": [
    "mp = plot(vstars.cpu().detach().numpy(), faces, shading={'wireframe':True})\n",
    "mp.add_points(vstars[in_source_mask].cpu().detach().numpy(), shading={'point_size':.01})\n",
    "mp.add_points\n",
    "mt.export_obj(vstars.cpu().detach().numpy(), faces, 'dc4')\n"
   ]
  },
  {
   "cell_type": "markdown",
   "metadata": {},
   "source": [
    "### MC"
   ]
  },
  {
   "cell_type": "code",
   "execution_count": 89,
   "metadata": {},
   "outputs": [],
   "source": [
    "ind=2\n",
    "tens = torch.load('../../output/acropolis/gen_0_4.pt', weights_only=False)\n",
    "source_tensor = DiffusionTensor(tens.grid[ind], tens.feature[ind]).remove_mask()"
   ]
  },
  {
   "cell_type": "code",
   "execution_count": 90,
   "metadata": {},
   "outputs": [],
   "source": [
    "dilated_grid = create_dilated_grid(source_tensor.grid)\n",
    "dilated_tensor, in_source_mask = assign_dilated_vstars(source_tensor.get_global(), dilated_grid)\n",
    "dual_grid = dilated_tensor.grid.dual_grid()\n",
    "dual_centers = dual_grid.grid_to_world(dual_grid.ijk.float())\n",
    "dilated_centers = dilated_grid.grid_to_world(dilated_grid.ijk.float())\n",
    "dual_tensor = grid_to_VDB(dual_grid, additional_feat=[1])\n",
    "offset = -1 + torch.tensor([[0, 0, 0], [1, 0, 0], [0, 1, 0], [0, 0, 1], [1, 1, 0], [1, 0, 1], [0, 1, 1], [1, 1, 1]], device=dual_grid.device)\n",
    "primal_ijk = (dual_tensor.grid.ijk.jdata[:, None, :] + offset[None, :]).view(-1, 3)\n",
    "primal_index = dilated_grid.ijk_to_index(primal_ijk, 1).jdata.view(-1, 8)\n",
    "normals, vstars, _, _ = DiffusionTensor.get_feature_data(dilated_tensor.jdata)\n",
    "\n",
    "guess_sign = (normals[primal_index]*(dual_centers.jdata[:, None, :]-vstars[primal_index])).sum(-1)\n",
    "guess_sign[primal_index==-1] = 0\n",
    "dual_tensor.feature.jdata = guess_sign.sum(-1, True)/(primal_index!=-1).sum(-1, True)\n",
    "v, f = vdb_marching_cubes(dual_tensor)\n",
    "ms = ml.MeshSet()\n",
    "nmesh = ml.Mesh(v, f)\n",
    "ms.add_mesh(nmesh)\n",
    "ms.save_current_mesh('test_pc.ply')"
   ]
  },
  {
   "cell_type": "code",
   "execution_count": 91,
   "metadata": {},
   "outputs": [],
   "source": []
  },
  {
   "cell_type": "code",
   "execution_count": 93,
   "metadata": {},
   "outputs": [
    {
     "data": {
      "application/vnd.jupyter.widget-view+json": {
       "model_id": "199c005f1c9c46a1ba70b007400aae36",
       "version_major": 2,
       "version_minor": 0
      },
      "text/plain": [
       "interactive(children=(IntSlider(value=115, description='s', max=230), Output()), _dom_classes=('widget-interac…"
      ]
     },
     "metadata": {},
     "output_type": "display_data"
    },
    {
     "data": {
      "text/plain": [
       "<function mesh_tools.plotSlice.<locals>.<lambda>(s)>"
      ]
     },
     "execution_count": 93,
     "metadata": {},
     "output_type": "execute_result"
    }
   ],
   "source": [
    "mt.plotSlice(dual_tensor.to_dense()[0, ..., 0].cpu().detach().numpy(), .1)"
   ]
  },
  {
   "cell_type": "code",
   "execution_count": 98,
   "metadata": {},
   "outputs": [
    {
     "data": {
      "text/plain": [
       "<fvdb._Cpp.JaggedTensor at 0x75cb0f6391f0>"
      ]
     },
     "execution_count": 98,
     "metadata": {},
     "output_type": "execute_result"
    }
   ],
   "source": [
    "-dual_tensor.feature"
   ]
  },
  {
   "cell_type": "code",
   "execution_count": 97,
   "metadata": {},
   "outputs": [
    {
     "ename": "TypeError",
     "evalue": "bad operand type for unary -: 'VDBTensor'",
     "output_type": "error",
     "traceback": [
      "\u001b[0;31m---------------------------------------------------------------------------\u001b[0m",
      "\u001b[0;31mTypeError\u001b[0m                                 Traceback (most recent call last)",
      "Cell \u001b[0;32mIn[97], line 1\u001b[0m\n\u001b[0;32m----> 1\u001b[0m v, f \u001b[38;5;241m=\u001b[39m vdb_marching_cubes(\u001b[38;5;241;43m-\u001b[39;49m\u001b[43mdual_tensor\u001b[49m)\n\u001b[1;32m      3\u001b[0m ms \u001b[38;5;241m=\u001b[39m ml\u001b[38;5;241m.\u001b[39mMeshSet()\n\u001b[1;32m      4\u001b[0m nmesh \u001b[38;5;241m=\u001b[39m ml\u001b[38;5;241m.\u001b[39mMesh(v, f)\n",
      "\u001b[0;31mTypeError\u001b[0m: bad operand type for unary -: 'VDBTensor'"
     ]
    }
   ],
   "source": []
  },
  {
   "cell_type": "code",
   "execution_count": null,
   "metadata": {},
   "outputs": [],
   "source": []
  }
 ],
 "metadata": {
  "kernelspec": {
   "display_name": "fvdb_test",
   "language": "python",
   "name": "python3"
  },
  "language_info": {
   "codemirror_mode": {
    "name": "ipython",
    "version": 3
   },
   "file_extension": ".py",
   "mimetype": "text/x-python",
   "name": "python",
   "nbconvert_exporter": "python",
   "pygments_lexer": "ipython3",
   "version": "3.10.14"
  }
 },
 "nbformat": 4,
 "nbformat_minor": 2
}
