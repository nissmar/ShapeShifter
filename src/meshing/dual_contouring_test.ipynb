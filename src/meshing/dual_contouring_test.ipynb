{
 "cells": [
  {
   "cell_type": "code",
   "execution_count": 1,
   "metadata": {},
   "outputs": [],
   "source": [
    "import sys\n",
    "sys.path.append('../utils')\n",
    "import fvdb.nn as fvnn\n",
    "import torch \n",
    "import igl\n",
    "from diffusion_tensor import *\n",
    "import mesh_tools as mt\n",
    "import matplotlib.pyplot as plt\n",
    "from fvdb_utils import show_vdb_marching_cubes, grid_to_VDB\n",
    "from tqdm import tqdm\n"
   ]
  },
  {
   "cell_type": "markdown",
   "metadata": {},
   "source": [
    "### (OLD) Init"
   ]
  },
  {
   "cell_type": "code",
   "execution_count": 80,
   "metadata": {},
   "outputs": [
    {
     "data": {
      "application/vnd.jupyter.widget-view+json": {
       "model_id": "fca499633c5a4e5fa2fa8049014472ca",
       "version_major": 2,
       "version_minor": 0
      },
      "text/plain": [
       "Renderer(camera=PerspectiveCamera(children=(DirectionalLight(color='white', intensity=0.6, position=(5.8114528…"
      ]
     },
     "metadata": {},
     "output_type": "display_data"
    },
    {
     "data": {
      "text/plain": [
       "<meshplot.Viewer.Viewer at 0x764382b6ee00>"
      ]
     },
     "execution_count": 80,
     "metadata": {},
     "output_type": "execute_result"
    }
   ],
   "source": [
    "ind=2\n",
    "tens = torch.load('../../output/house/gen_0_4.pt', weights_only=False)\n",
    "disp_d = DiffusionTensor(tens.grid[ind], tens.feature[ind]).remove_mask()\n",
    "disp_d.get_global().colored_PC(.07)"
   ]
  },
  {
   "cell_type": "markdown",
   "metadata": {},
   "source": [
    "### (OLD) Test direct MC"
   ]
  },
  {
   "cell_type": "code",
   "execution_count": 4,
   "metadata": {},
   "outputs": [],
   "source": [
    "train_grid = disp_d\n",
    "train_grid.feature.jdata[:, 3:6] = torch.clip(train_grid.feature.jdata[:, 3:6], -.5, .5)"
   ]
  },
  {
   "cell_type": "code",
   "execution_count": 5,
   "metadata": {},
   "outputs": [
    {
     "name": "stdout",
     "output_type": "stream",
     "text": [
      "torch.Size([118504, 3])\n"
     ]
    }
   ],
   "source": [
    "dual_grid = train_grid.grid.dual_grid()\n",
    "dual_centers = dual_grid.grid_to_world(dual_grid.ijk.float())\n",
    "normals, vstars, _, mask = DiffusionTensor.get_feature_data(train_grid.get_global().jdata)\n",
    "# splat vstars + normals on dual grid\n",
    "print(vstars.shape)\n",
    "features = torch.cat((normals, (vstars*normals).sum(-1, True), torch.ones_like(vstars[:, :1])), -1)\n",
    "new_feature = dual_grid.splat_trilinear(train_grid.grid.jagged_like(vstars), train_grid.grid.jagged_like(features))\n",
    "\n",
    "nfdata = new_feature.jdata[:, :-1]/new_feature.jdata[:, -1:]\n",
    "dual_sign = (dual_centers.jdata*nfdata[:,:3]).sum(-1, True)-nfdata[:,3:]\n",
    "dual_sign = 2.*(dual_sign>0)-1\n",
    "dual_tens = fvnn.VDBTensor(dual_grid, dual_grid.jagged_like(dual_sign[:, None]))"
   ]
  },
  {
   "cell_type": "code",
   "execution_count": 6,
   "metadata": {},
   "outputs": [
    {
     "data": {
      "application/vnd.jupyter.widget-view+json": {
       "model_id": "578911d6aacf4ddb96745600c6b60201",
       "version_major": 2,
       "version_minor": 0
      },
      "text/plain": [
       "interactive(children=(IntSlider(value=114, description='s', max=228), Output()), _dom_classes=('widget-interac…"
      ]
     },
     "metadata": {},
     "output_type": "display_data"
    },
    {
     "data": {
      "text/plain": [
       "<function mesh_tools.plotSlice.<locals>.<lambda>(s)>"
      ]
     },
     "execution_count": 6,
     "metadata": {},
     "output_type": "execute_result"
    }
   ],
   "source": [
    "dual_data = dual_tens.to_dense().cpu().detach().numpy()\n",
    "primal_data = train_grid.to_dense().cpu().detach().numpy()\n",
    "\n",
    "mt.plotSlice(dual_data[0, ..., 0], .01)"
   ]
  },
  {
   "cell_type": "code",
   "execution_count": 7,
   "metadata": {},
   "outputs": [
    {
     "data": {
      "application/vnd.jupyter.widget-view+json": {
       "model_id": "eb3f2070db1a46ccbdeb4434c307fa71",
       "version_major": 2,
       "version_minor": 0
      },
      "text/plain": [
       "Renderer(camera=PerspectiveCamera(children=(DirectionalLight(color='white', intensity=0.6, position=(0.0, 0.0,…"
      ]
     },
     "metadata": {},
     "output_type": "display_data"
    },
    {
     "data": {
      "text/plain": [
       "<meshplot.Viewer.Viewer at 0x7e948129c0d0>"
      ]
     },
     "execution_count": 7,
     "metadata": {},
     "output_type": "execute_result"
    }
   ],
   "source": [
    "show_vdb_marching_cubes(dual_tens)"
   ]
  },
  {
   "cell_type": "markdown",
   "metadata": {},
   "source": [
    "### (OLD) Robust hierarchy"
   ]
  },
  {
   "cell_type": "code",
   "execution_count": 4,
   "metadata": {},
   "outputs": [],
   "source": [
    "def get_pool(self, k_s=2):\n",
    "    '''make sure it's global first'''\n",
    "    feature, grid = self.grid.avg_pool(k_s, self.feature, k_s)\n",
    "    feature.jdata /= feature.jdata[:, -1:].clone()\n",
    "    return  DiffusionTensor(grid, feature)\n"
   ]
  },
  {
   "cell_type": "code",
   "execution_count": 9,
   "metadata": {},
   "outputs": [],
   "source": [
    "global_fine_grid = disp_d.get_global()\n",
    "\n",
    "first_ks = 128\n",
    "primal_data = get_pool(global_fine_grid, first_ks)\n",
    "\n",
    "if not primal_data.to_dense()[..., -1].sum()==8:\n",
    "    print('WARNING: ASSUMPTION BROKEN')\n",
    "occupancy_tensor = fvnn.VDBTensor(primal_data.grid, primal_data.grid.jagged_like(torch.zeros(8, device='cuda')[:, None]))\n",
    "# -1: INSIDE, 0: ACTIVE, 1: OUTSIDE"
   ]
  },
  {
   "cell_type": "code",
   "execution_count": 10,
   "metadata": {},
   "outputs": [
    {
     "data": {
      "text/plain": [
       "tensor([[-1, -1, -1],\n",
       "        [-1, -1,  0],\n",
       "        [-1,  0, -1],\n",
       "        [-1,  0,  0],\n",
       "        [ 0, -1, -1],\n",
       "        [ 0, -1,  0],\n",
       "        [ 0,  0, -1],\n",
       "        [ 0,  0,  0]], device='cuda:0', dtype=torch.int32)"
      ]
     },
     "execution_count": 10,
     "metadata": {},
     "output_type": "execute_result"
    }
   ],
   "source": [
    "primal_data.grid.ijk.jdata"
   ]
  },
  {
   "cell_type": "code",
   "execution_count": 11,
   "metadata": {},
   "outputs": [],
   "source": [
    "### KEEEP\n",
    "\n",
    "# see which are in the next level\n",
    "K=2\n",
    "current_ks=first_ks//K\n",
    "primal_data = get_pool(global_fine_grid, current_ks)\n",
    "normals, vstars, _, _ = DiffusionTensor.get_feature_data(primal_data.jdata)\n",
    "\n",
    "sub_features, sub_grid = occupancy_tensor.grid.subdivide(K, occupancy_tensor.feature)\n",
    "sub_centers = sub_grid.grid_to_world(sub_grid.ijk.float())\n",
    "\n",
    "is_void = (primal_data.grid.ijk_to_index(sub_grid.ijk).jdata == -1)[:, None] # subdivided voxel not in grid\n",
    "\n",
    "to_decide_sign = ((sub_features==0)*(is_void)).jdata # --> Decide sign\n",
    "# else keep value \n",
    "\n",
    "# --> Decide sign\n",
    "points_neigh_idx = primal_data.grid.neighbor_indexes(sub_grid.ijk, 2).jdata\n",
    "mask_exists = (points_neigh_idx!=-1)*1.\n",
    "\n",
    "local_delta = (sub_centers.jdata.unsqueeze(1).unsqueeze(1).unsqueeze(1)-vstars[points_neigh_idx])\n",
    "local_sdf = (local_delta*normals[points_neigh_idx]).sum(-1)\n",
    "local_sdf[torch.logical_not(mask_exists)] = 0\n",
    "local_dist = (local_delta**2).sum(-1)\n",
    "local_dist[torch.logical_not(mask_exists)] = 1e20\n",
    "\n",
    "predicted_sdf = (torch.softmax(-10000*local_dist.view(len(is_void), -1), -1)*local_sdf.view(len(is_void), -1))\n",
    "predicted_sdf = predicted_sdf.sum(-1, True)\n",
    "\n",
    "# sub_features.jdata[to_decide_sign] = 2.*(predicted_sdf[to_decide_sign]>0)-1\n",
    "sub_features.jdata[to_decide_sign] = predicted_sdf[to_decide_sign]\n",
    "\n",
    "# prune\n",
    "sub_neigh_idx = sub_grid.neighbor_indexes(sub_grid.ijk, 1).jdata\n",
    "\n",
    "# TODO\n",
    "\n",
    "occupancy_tensor = fvnn.VDBTensor(sub_grid, sub_features)\n",
    "\n",
    "first_ks = current_ks\n",
    "\n",
    "### Occupancy tensor: contains atoccupancy_tensor.grid.subdivide(2, occupancy_tensor.feature) each level, +1 for inside voxels, -1 for outside voxels, 0 for voxel containing the surface"
   ]
  },
  {
   "cell_type": "code",
   "execution_count": 12,
   "metadata": {},
   "outputs": [
    {
     "data": {
      "text/plain": [
       "tensor([[0.0458],\n",
       "        [0.0182],\n",
       "        [0.0346],\n",
       "        [0.0070],\n",
       "        [0.0474],\n",
       "        [0.0072],\n",
       "        [0.0414],\n",
       "        [0.0012],\n",
       "        [0.0206],\n",
       "        [0.0487],\n",
       "        [0.0081],\n",
       "        [0.0362],\n",
       "        [0.0070],\n",
       "        [0.0455],\n",
       "        [0.0014],\n",
       "        [0.0398],\n",
       "        [0.0169],\n",
       "        [0.0043],\n",
       "        [0.0321],\n",
       "        [0.0195],\n",
       "        [0.0070],\n",
       "        [0.0052],\n",
       "        [0.0284],\n",
       "        [0.0266],\n",
       "        [0.0047],\n",
       "        [0.0038],\n",
       "        [0.0243],\n",
       "        [0.0233],\n",
       "        [0.0070],\n",
       "        [0.0023],\n",
       "        [0.0329],\n",
       "        [0.0282],\n",
       "        [0.0483],\n",
       "        [0.0073],\n",
       "        [0.0421],\n",
       "        [0.0011],\n",
       "        [0.0480],\n",
       "        [0.0177],\n",
       "        [0.0370],\n",
       "        [0.0068],\n",
       "        [0.0080],\n",
       "        [0.0504],\n",
       "        [0.0014],\n",
       "        [0.0438],\n",
       "        [0.0182],\n",
       "        [0.0460],\n",
       "        [0.0067],\n",
       "        [0.0345],\n",
       "        [0.0066],\n",
       "        [0.0060],\n",
       "        [0.0285],\n",
       "        [0.0279],\n",
       "        [0.0147],\n",
       "        [0.0051],\n",
       "        [0.0344],\n",
       "        [0.0248],\n",
       "        [0.0074],\n",
       "        [0.0014],\n",
       "        [0.0354],\n",
       "        [0.0294],\n",
       "        [0.0061],\n",
       "        [0.0027],\n",
       "        [0.0294],\n",
       "        [0.0260]], device='cuda:0')"
      ]
     },
     "execution_count": 12,
     "metadata": {},
     "output_type": "execute_result"
    }
   ],
   "source": [
    "predicted_sdf"
   ]
  },
  {
   "cell_type": "code",
   "execution_count": 13,
   "metadata": {},
   "outputs": [],
   "source": [
    "# ### KEEEP\n",
    "# # prune\n",
    "# sub_neigh_idx = sub_grid.neighbor_indexes(sub_grid.ijk, 1).jdata\n",
    "\n",
    "# subdivided_occupancy_grid = fvnn.VDBTensor(sub_grid, sub_features)\n",
    "# # subdivided_occupancy_grid = fvnn.VDBTensor(sub_grid, sub_grid.jagged_like(p_sdf))"
   ]
  },
  {
   "cell_type": "code",
   "execution_count": 14,
   "metadata": {},
   "outputs": [
    {
     "data": {
      "application/vnd.jupyter.widget-view+json": {
       "model_id": "e45f5d52b7904b259e2221fa7d6ea429",
       "version_major": 2,
       "version_minor": 0
      },
      "text/plain": [
       "interactive(children=(IntSlider(value=2, description='s', max=3), Output()), _dom_classes=('widget-interact',)…"
      ]
     },
     "metadata": {},
     "output_type": "display_data"
    },
    {
     "data": {
      "text/plain": [
       "<function mesh_tools.plotSlice.<locals>.<lambda>(s)>"
      ]
     },
     "execution_count": 14,
     "metadata": {},
     "output_type": "execute_result"
    }
   ],
   "source": [
    "mt.plotSlice(primal_data.to_dense()[0, ..., -1].cpu().detach().numpy(), 1.)"
   ]
  },
  {
   "cell_type": "code",
   "execution_count": 15,
   "metadata": {},
   "outputs": [
    {
     "data": {
      "application/vnd.jupyter.widget-view+json": {
       "model_id": "3c8367a83d554ee79b5b646c3e49d65a",
       "version_major": 2,
       "version_minor": 0
      },
      "text/plain": [
       "interactive(children=(IntSlider(value=2, description='s', max=3), Output()), _dom_classes=('widget-interact',)…"
      ]
     },
     "metadata": {},
     "output_type": "display_data"
    },
    {
     "data": {
      "text/plain": [
       "<function mesh_tools.plotSlice.<locals>.<lambda>(s)>"
      ]
     },
     "execution_count": 15,
     "metadata": {},
     "output_type": "execute_result"
    }
   ],
   "source": [
    "mt.plotSlice(occupancy_tensor.to_dense()[0, ..., 0].cpu().detach().numpy(), .1)"
   ]
  },
  {
   "cell_type": "markdown",
   "metadata": {},
   "source": [
    "### Semi-Robust labeling"
   ]
  },
  {
   "cell_type": "code",
   "execution_count": 2,
   "metadata": {},
   "outputs": [],
   "source": [
    "ind=2\n",
    "tens = torch.load('../../output/wood/gen_0_3.pt', weights_only=False)\n",
    "source_tensor = DiffusionTensor(tens.grid[ind], tens.feature[ind]).remove_mask()"
   ]
  },
  {
   "cell_type": "code",
   "execution_count": 3,
   "metadata": {},
   "outputs": [
    {
     "data": {
      "application/vnd.jupyter.widget-view+json": {
       "model_id": "c2d6133e1caf46bbb91179c2f1c7c3a0",
       "version_major": 2,
       "version_minor": 0
      },
      "text/plain": [
       "interactive(children=(IntSlider(value=60, description='s', max=119), Output()), _dom_classes=('widget-interact…"
      ]
     },
     "metadata": {},
     "output_type": "display_data"
    },
    {
     "data": {
      "text/plain": [
       "<function mesh_tools.plotSlice.<locals>.<lambda>(s)>"
      ]
     },
     "execution_count": 3,
     "metadata": {},
     "output_type": "execute_result"
    }
   ],
   "source": [
    "mt.plotSlice(source_tensor.to_dense()[0, ..., 6].cpu().detach().numpy(), 1.)"
   ]
  },
  {
   "cell_type": "code",
   "execution_count": 4,
   "metadata": {},
   "outputs": [],
   "source": [
    "def create_dilated_grid(grid:fvdb.GridBatch):\n",
    "    dilated_ijk = grid.ijk.jdata.clone()\n",
    "    dilated_ijk = dilated_ijk[:, None] + torch.tensor(mt.mesh_grid(3, True), device=dilated_ijk.device)\n",
    "    dilated_ijk = dilated_ijk.view(-1, 3).long()\n",
    "    return fvdb.sparse_grid_from_ijk(dilated_ijk, origins=grid.origins, voxel_sizes=grid.voxel_sizes)\n",
    "\n",
    "\n",
    "def label_dilated_grid(source_tensor: fvnn.VDBTensor, dilated_grid: fvdb.GridBatch):\n",
    "    '''Label dilated grid based on the normal orientation: 0 (intersects surface), 1 or -1 (resp. strictly outside/inside)'''\n",
    "    dilated_grid = create_dilated_grid(source_tensor.grid)\n",
    "    dilated_tensor = grid_to_VDB(dilated_grid, torch.ones, additional_feat=[1])\n",
    "    dilated_centers = dilated_grid.grid_to_world(dilated_grid.ijk.float())\n",
    "    neighbors = source_tensor.grid.neighbor_indexes(dilated_tensor.grid.ijk, 1)\n",
    "    \n",
    "    # assign existing voxels to 0\n",
    "    in_source_mask = neighbors.jdata[:, 1, 1, 1]!=-1\n",
    "    \n",
    "    # --> Decide sign\n",
    "    flat_neighbors = neighbors.jdata.view(-1, 27)\n",
    "    normals, vstars, _, _ = DiffusionTensor.get_feature_data(source_tensor.get_global().jdata)\n",
    "    local_delta = (dilated_centers.jdata.unsqueeze(1)-vstars[flat_neighbors])\n",
    "    local_sdf = (local_delta*normals[flat_neighbors]).sum(-1)\n",
    "    local_sdf[flat_neighbors==-1] = 0\n",
    "    local_sdf = local_sdf.sum(-1)/(flat_neighbors!=-1).sum(-1)\n",
    "\n",
    "    dilated_tensor.feature.jdata = local_sdf[:, None]\n",
    "    dilated_tensor.feature.jdata[in_source_mask] = 0\n",
    "    \n",
    "    return dilated_tensor\n"
   ]
  },
  {
   "cell_type": "code",
   "execution_count": null,
   "metadata": {},
   "outputs": [],
   "source": []
  },
  {
   "cell_type": "code",
   "execution_count": 5,
   "metadata": {},
   "outputs": [],
   "source": [
    "dilated_grid = create_dilated_grid(source_tensor.grid)\n",
    "dilated_tensor = label_dilated_grid(source_tensor, dilated_grid)"
   ]
  },
  {
   "cell_type": "code",
   "execution_count": 6,
   "metadata": {},
   "outputs": [
    {
     "data": {
      "application/vnd.jupyter.widget-view+json": {
       "model_id": "250a9efe997a415a88db53582d1a6cda",
       "version_major": 2,
       "version_minor": 0
      },
      "text/plain": [
       "interactive(children=(IntSlider(value=61, description='s', max=121), Output()), _dom_classes=('widget-interact…"
      ]
     },
     "metadata": {},
     "output_type": "display_data"
    },
    {
     "data": {
      "text/plain": [
       "<function mesh_tools.plotSlice.<locals>.<lambda>(s)>"
      ]
     },
     "execution_count": 6,
     "metadata": {},
     "output_type": "execute_result"
    }
   ],
   "source": [
    "mt.plotSlice(dilated_tensor.to_dense()[0, ..., -1].cpu().detach().numpy(), .001)"
   ]
  },
  {
   "cell_type": "code",
   "execution_count": 7,
   "metadata": {},
   "outputs": [],
   "source": [
    "\n",
    "# def create_dilated_dual(source_tensor: fvnn.VDBTensor, dilated_tensor: fvnn.VDBTensor):\n",
    "#     dilated_centers = dilated_tensor.grid.grid_to_world(dilated_tensor.grid.ijk.float())\n",
    "#     dual_grid = dilated_tensor.grid.dual_grid()\n",
    "#     new_feature = dual_grid.splat_trilinear(dilated_centers, dilated_tensor.feature)\n",
    "#     dual_tensor = fvdb.nn.VDBTensor(dual_grid, new_feature)"
   ]
  },
  {
   "cell_type": "code",
   "execution_count": 8,
   "metadata": {},
   "outputs": [],
   "source": [
    "dual_grid = dilated_tensor.grid.dual_grid()\n",
    "dual_centers = dual_grid.grid_to_world(dual_grid.ijk.float())\n",
    "dilated_centers = dilated_grid.grid_to_world(dilated_grid.ijk.float())\n",
    "\n",
    "new_feature = dual_grid.splat_trilinear(dilated_centers, dilated_tensor.feature)\n",
    "\n",
    "\n",
    "\n",
    "dual_tensor = fvdb.nn.VDBTensor(dual_grid, new_feature)\n",
    "\n",
    "\n"
   ]
  },
  {
   "cell_type": "code",
   "execution_count": 9,
   "metadata": {},
   "outputs": [
    {
     "data": {
      "text/plain": [
       "<fvdb._Cpp.JaggedTensor at 0x74444b083530>"
      ]
     },
     "execution_count": 9,
     "metadata": {},
     "output_type": "execute_result"
    }
   ],
   "source": [
    "new_feature"
   ]
  },
  {
   "cell_type": "code",
   "execution_count": 10,
   "metadata": {},
   "outputs": [
    {
     "data": {
      "application/vnd.jupyter.widget-view+json": {
       "model_id": "cbf16dc50cc34c649a3c31c63ff48e90",
       "version_major": 2,
       "version_minor": 0
      },
      "text/plain": [
       "interactive(children=(IntSlider(value=61, description='s', max=122), Output()), _dom_classes=('widget-interact…"
      ]
     },
     "metadata": {},
     "output_type": "display_data"
    },
    {
     "data": {
      "text/plain": [
       "<function mesh_tools.plotSlice.<locals>.<lambda>(s)>"
      ]
     },
     "execution_count": 10,
     "metadata": {},
     "output_type": "execute_result"
    }
   ],
   "source": [
    "mt.plotSlice(dual_tensor.to_dense()[0, ..., -1].cpu().detach().numpy(), .000001)"
   ]
  },
  {
   "cell_type": "code",
   "execution_count": 11,
   "metadata": {},
   "outputs": [],
   "source": [
    "# consolidate NEW \n",
    "is_unlabeled = (dual_tensor.feature.jdata==0).squeeze()\n",
    "offset = -1 + torch.tensor([[0, 0, 0], [1, 0, 0], [0, 1, 0], [0, 0, 1], [1, 1, 0], [1, 0, 1], [0, 1, 1], [1, 1, 1]], device=is_unlabeled.device)\n",
    "\n",
    "primal_ijk = (dual_tensor.grid.ijk.jdata[is_unlabeled][:, None, :] + offset[None, :]).view(-1, 3)\n",
    "primal_index = source_tensor.grid.ijk_to_index(primal_ijk, 1).jdata.view(-1, 8)\n",
    "normals, vstars, _, _ = DiffusionTensor.get_feature_data(source_tensor.get_global().jdata)\n",
    "\n",
    "guess_sign = (normals[primal_index]*(dual_centers.jdata[is_unlabeled][:, None, :]-vstars[primal_index])).sum(-1).mean(-1)\n",
    "\n",
    "dual_tensor.feature.jdata[is_unlabeled] = guess_sign.unsqueeze(-1)"
   ]
  },
  {
   "cell_type": "code",
   "execution_count": 12,
   "metadata": {},
   "outputs": [],
   "source": [
    "# consolidate OLD\n",
    "dual_neighbors = dual_tensor.grid.neighbor_indexes(dual_tensor.grid.ijk, 1).jdata.view(-1, 27)\n",
    "\n",
    "neigh_data = dual_tensor.jdata[dual_neighbors].squeeze()\n",
    "neigh_data[dual_neighbors==-1] = 0\n",
    "neigh_data = neigh_data.sum(-1)/(dual_neighbors!=-1).sum(-1)\n",
    "\n",
    "dual_tensor.feature.jdata[dual_tensor.jdata==0] = neigh_data[dual_tensor.jdata.squeeze()==0]"
   ]
  },
  {
   "cell_type": "code",
   "execution_count": 13,
   "metadata": {},
   "outputs": [
    {
     "data": {
      "application/vnd.jupyter.widget-view+json": {
       "model_id": "4b5060cda1aa4018ab52a0e65093c6e5",
       "version_major": 2,
       "version_minor": 0
      },
      "text/plain": [
       "interactive(children=(IntSlider(value=61, description='s', max=122), Output()), _dom_classes=('widget-interact…"
      ]
     },
     "metadata": {},
     "output_type": "display_data"
    },
    {
     "data": {
      "text/plain": [
       "<function mesh_tools.plotSlice.<locals>.<lambda>(s)>"
      ]
     },
     "execution_count": 13,
     "metadata": {},
     "output_type": "execute_result"
    }
   ],
   "source": [
    "mt.plotSlice(dual_tensor.to_dense()[0, ..., -1].cpu().detach().numpy(), .000001)"
   ]
  },
  {
   "cell_type": "code",
   "execution_count": 14,
   "metadata": {},
   "outputs": [
    {
     "data": {
      "application/vnd.jupyter.widget-view+json": {
       "model_id": "40a880c29f1a4e72ad32c14718eccf0a",
       "version_major": 2,
       "version_minor": 0
      },
      "text/plain": [
       "Renderer(camera=PerspectiveCamera(children=(DirectionalLight(color='white', intensity=0.6, position=(-0.000268…"
      ]
     },
     "metadata": {},
     "output_type": "display_data"
    },
    {
     "data": {
      "text/plain": [
       "<meshplot.Viewer.Viewer at 0x74444a32fa60>"
      ]
     },
     "execution_count": 14,
     "metadata": {},
     "output_type": "execute_result"
    }
   ],
   "source": [
    "show_vdb_marching_cubes(dual_tensor)"
   ]
  },
  {
   "cell_type": "markdown",
   "metadata": {},
   "source": [
    "### Neighbor based dual contouring"
   ]
  },
  {
   "cell_type": "code",
   "execution_count": 15,
   "metadata": {},
   "outputs": [],
   "source": [
    "def dual_contouring(dual_tensor: fvnn.VDBTensor):\n",
    "    ''' dual_tensor: sign on corner vertices\n",
    "        based on dual edges (neighbors in the graph)'''\n",
    "    dual_neighbors = dual_tensor.grid.neighbor_indexes(dual_tensor.grid.ijk, 1).jdata\n",
    "    sign_data = dual_tensor.jdata.sign().squeeze()\n",
    "    if 0 in sign_data:\n",
    "        print('WARNING, WRONG SIGN DATA')\n",
    "\n",
    "    dkx = dual_neighbors[:, 2, 1, 1]\n",
    "    active_dkx = ((sign_data*sign_data[dkx])==-1)*(dkx!=-1)\n",
    "\n",
    "    dky = dual_neighbors[:, 1, 2, 1]\n",
    "    active_dky = ((sign_data*sign_data[dky])==-1)*(dky!=-1)\n",
    "\n",
    "    dkz = dual_neighbors[:, 1, 1, 2]\n",
    "    active_dkz = ((sign_data*sign_data[dkz])==-1)*(dkz!=-1)\n",
    "    \n",
    "    dkx_face_idx = torch.tensor([[0, -1, -1], [0, 0, -1], [0, 0, 0], [0, -1, 0]], device=dkx.device)\n",
    "    dky_face_idx = torch.tensor([[-1, 0, 0], [0, 0, 0], [0, 0, -1], [-1, 0, -1]], device=dky.device)\n",
    "    dkz_face_idx = torch.tensor([[-1, -1, 0], [0, -1, 0], [0, 0, 0], [-1, 0, 0]], device=dkz.device)\n",
    "\n",
    "\n",
    "    faces = []\n",
    "    for dk_face_idx, active_dk in zip([dkx_face_idx, dky_face_idx, dkz_face_idx], [active_dkx,  active_dky, active_dkz]):\n",
    "        face_idx = (dk_face_idx[:, None] + dual_tensor.grid.ijk.jdata[active_dk][None, :]).permute((1, 0, 2))\n",
    "        face_idx[sign_data[active_dk]>0] = face_idx[sign_data[active_dk]>0].flip(1)\n",
    "        faces.append(face_idx)\n",
    "    return torch.concatenate(faces)"
   ]
  },
  {
   "cell_type": "code",
   "execution_count": 136,
   "metadata": {},
   "outputs": [
    {
     "data": {
      "application/vnd.jupyter.widget-view+json": {
       "model_id": "02ce9ef634c14120a9421218cdf87d48",
       "version_major": 2,
       "version_minor": 0
      },
      "text/plain": [
       "Renderer(camera=PerspectiveCamera(children=(DirectionalLight(color='white', intensity=0.6, position=(0.0001567…"
      ]
     },
     "metadata": {},
     "output_type": "display_data"
    },
    {
     "data": {
      "text/plain": [
       "<meshplot.Viewer.Viewer at 0x74444a2a71f0>"
      ]
     },
     "execution_count": 136,
     "metadata": {},
     "output_type": "execute_result"
    }
   ],
   "source": [
    "def faces_ijk_to_index(candidate_faces: torch.tensor, source_grid: fvdb.GridBatch):\n",
    "    df = source_grid.ijk_to_index(candidate_faces.view(-1, 3)).jdata.view(-1, 4)\n",
    "    return df\n",
    "\n",
    "\n",
    "\n",
    "candidate_faces = dual_contouring(dual_tensor)\n",
    "faces = faces_ijk_to_index(candidate_faces, source_tensor.grid)\n",
    "faces = faces[(faces!=-1).all(-1)].cpu().detach().numpy()\n",
    "\n",
    "_, vstars, _, _ = DiffusionTensor.get_feature_data(source_tensor.get_global().jdata)\n",
    "plot(vstars.cpu().detach().numpy(), faces)"
   ]
  },
  {
   "cell_type": "code",
   "execution_count": 17,
   "metadata": {},
   "outputs": [
    {
     "data": {
      "application/vnd.jupyter.widget-view+json": {
       "model_id": "9c93eef81f384a1eb54745de2ed3fec4",
       "version_major": 2,
       "version_minor": 0
      },
      "text/plain": [
       "Renderer(camera=PerspectiveCamera(children=(DirectionalLight(color='white', intensity=0.6, position=(0.0001567…"
      ]
     },
     "metadata": {},
     "output_type": "display_data"
    },
    {
     "data": {
      "text/plain": [
       "<meshplot.Viewer.Viewer at 0x7444485600a0>"
      ]
     },
     "execution_count": 17,
     "metadata": {},
     "output_type": "execute_result"
    }
   ],
   "source": [
    "plot(vstars.cpu().detach().numpy(), faces)"
   ]
  },
  {
   "cell_type": "code",
   "execution_count": 18,
   "metadata": {},
   "outputs": [],
   "source": [
    "mt.export_obj(vstars.cpu().detach().numpy(), faces, 'test.obj')"
   ]
  },
  {
   "cell_type": "markdown",
   "metadata": {},
   "source": [
    "###  EXP V2: label dilatation (normal+Displacement) to obtain the sdf"
   ]
  },
  {
   "cell_type": "code",
   "execution_count": 148,
   "metadata": {},
   "outputs": [],
   "source": [
    "ind=2\n",
    "tens = torch.load('../../output/acropolis/gen_0_4.pt', weights_only=False)\n",
    "source_tensor = DiffusionTensor(tens.grid[ind], tens.feature[ind]).remove_mask()"
   ]
  },
  {
   "cell_type": "code",
   "execution_count": 149,
   "metadata": {},
   "outputs": [
    {
     "data": {
      "application/vnd.jupyter.widget-view+json": {
       "model_id": "a8a87e5e65cc49abbaefc0445143e6d3",
       "version_major": 2,
       "version_minor": 0
      },
      "text/plain": [
       "interactive(children=(IntSlider(value=114, description='s', max=227), Output()), _dom_classes=('widget-interac…"
      ]
     },
     "metadata": {},
     "output_type": "display_data"
    },
    {
     "data": {
      "text/plain": [
       "<function mesh_tools.plotSlice.<locals>.<lambda>(s)>"
      ]
     },
     "execution_count": 149,
     "metadata": {},
     "output_type": "execute_result"
    }
   ],
   "source": [
    "mt.plotSlice(source_tensor.to_dense()[0, ..., 6].cpu().detach().numpy(), 1.)"
   ]
  },
  {
   "cell_type": "code",
   "execution_count": 150,
   "metadata": {},
   "outputs": [],
   "source": [
    "def label_raw_dilated_grid(source_tensor: fvnn.VDBTensor, dilated_grid: fvdb.GridBatch):\n",
    "    '''Label dilated grid based on the normal orientation: 0 (intersects surface), 1 or -1 (resp. strictly outside/inside)'''\n",
    "    dilated_grid = create_dilated_grid(source_tensor.grid)\n",
    "    dilated_tensor = grid_to_VDB(dilated_grid, torch.ones, additional_feat=[source_tensor.jdata.shape[-1]])\n",
    "    dilated_centers = dilated_grid.grid_to_world(dilated_grid.ijk.float()).jdata\n",
    "\n",
    "    neighbors = source_tensor.grid.neighbor_indexes(dilated_tensor.grid.ijk, 1)\n",
    "    \n",
    "    # assign existing voxels to 0\n",
    "    in_source_mask = neighbors.jdata[:, 1, 1, 1]!=-1\n",
    "    \n",
    "    # --> Decide sign\n",
    "    flat_neighbors = neighbors.jdata.view(-1, 27)\n",
    "    \n",
    "    out_feat = source_tensor.jdata[flat_neighbors]\n",
    "    out_feat[flat_neighbors==-1] = 0\n",
    "\n",
    "    out_feat = out_feat.sum(-2)/(flat_neighbors!=-1).sum(-1, True)\n",
    "\n",
    "    dilated_tensor.feature.jdata = out_feat\n",
    "    dilated_tensor.feature.jdata[in_source_mask] = source_tensor.jdata[neighbors.jdata[:, 1, 1, 1][in_source_mask]]\n",
    "\n",
    "\n",
    "    if False: # store SDF\n",
    "        predicted_sdf = ((dilated_centers-dilated_tensor.jdata[:, 3:6])*(dilated_tensor.jdata[:, :3])).sum(-1, True)\n",
    "        dilated_tensor.feature.jdata = predicted_sdf\n",
    "    return dilated_tensor\n",
    "dilated_grid = create_dilated_grid(source_tensor.grid)\n",
    "dilated_tensor = label_raw_dilated_grid(source_tensor.get_global(), dilated_grid)"
   ]
  },
  {
   "cell_type": "code",
   "execution_count": 151,
   "metadata": {},
   "outputs": [
    {
     "data": {
      "application/vnd.jupyter.widget-view+json": {
       "model_id": "8ecf464fbbaf4fad8723cb57a4be42bb",
       "version_major": 2,
       "version_minor": 0
      },
      "text/plain": [
       "interactive(children=(IntSlider(value=115, description='s', max=229), Output()), _dom_classes=('widget-interac…"
      ]
     },
     "metadata": {},
     "output_type": "display_data"
    },
    {
     "data": {
      "text/plain": [
       "<function mesh_tools.plotSlice.<locals>.<lambda>(s)>"
      ]
     },
     "execution_count": 151,
     "metadata": {},
     "output_type": "execute_result"
    }
   ],
   "source": [
    "mt.plotSlice(dilated_tensor.to_dense()[0, ..., 0].cpu().detach().numpy(), .1)"
   ]
  },
  {
   "cell_type": "code",
   "execution_count": 152,
   "metadata": {},
   "outputs": [],
   "source": [
    "# show_vdb_marching_cubes(dilated_tensor)"
   ]
  },
  {
   "cell_type": "code",
   "execution_count": 153,
   "metadata": {},
   "outputs": [],
   "source": [
    "dual_grid = dilated_tensor.grid.dual_grid()\n",
    "dual_centers = dual_grid.grid_to_world(dual_grid.ijk.float())\n",
    "dilated_centers = dilated_grid.grid_to_world(dilated_grid.ijk.float())\n",
    "\n",
    "dual_tensor = grid_to_VDB(dual_grid, additional_feat=[1])\n",
    "\n",
    "\n"
   ]
  },
  {
   "cell_type": "code",
   "execution_count": 154,
   "metadata": {},
   "outputs": [],
   "source": [
    "# consolidate NEW \n",
    "offset = -1 + torch.tensor([[0, 0, 0], [1, 0, 0], [0, 1, 0], [0, 0, 1], [1, 1, 0], [1, 0, 1], [0, 1, 1], [1, 1, 1]], device=dual_grid.device)\n",
    "\n",
    "primal_ijk = (dual_tensor.grid.ijk.jdata[:, None, :] + offset[None, :]).view(-1, 3)\n",
    "primal_index = dilated_grid.ijk_to_index(primal_ijk, 1).jdata.view(-1, 8)\n",
    "normals, vstars, _, _ = DiffusionTensor.get_feature_data(dilated_tensor.jdata)\n",
    "\n",
    "guess_sign = (normals[primal_index]*(dual_centers.jdata[:, None, :]-vstars[primal_index])).sum(-1)\n",
    "guess_sign[primal_index==-1] = 0\n",
    "dual_tensor.feature.jdata = guess_sign.sum(-1, True)/(primal_index!=-1).sum(-1, True)"
   ]
  },
  {
   "cell_type": "code",
   "execution_count": 155,
   "metadata": {},
   "outputs": [
    {
     "data": {
      "application/vnd.jupyter.widget-view+json": {
       "model_id": "3dd2e88a9e554c2f9f61a3bef78799d9",
       "version_major": 2,
       "version_minor": 0
      },
      "text/plain": [
       "interactive(children=(IntSlider(value=115, description='s', max=230), Output()), _dom_classes=('widget-interac…"
      ]
     },
     "metadata": {},
     "output_type": "display_data"
    },
    {
     "data": {
      "text/plain": [
       "<function mesh_tools.plotSlice.<locals>.<lambda>(s)>"
      ]
     },
     "execution_count": 155,
     "metadata": {},
     "output_type": "execute_result"
    }
   ],
   "source": [
    "mt.plotSlice(dual_tensor.to_dense()[0, ..., 0].cpu().detach().numpy(), .1)"
   ]
  },
  {
   "cell_type": "code",
   "execution_count": 156,
   "metadata": {},
   "outputs": [
    {
     "data": {
      "application/vnd.jupyter.widget-view+json": {
       "model_id": "12ff3c88a01c4379b3b75c7c9b01923b",
       "version_major": 2,
       "version_minor": 0
      },
      "text/plain": [
       "Renderer(camera=PerspectiveCamera(children=(DirectionalLight(color='white', intensity=0.6, position=(-3.683567…"
      ]
     },
     "metadata": {},
     "output_type": "display_data"
    },
    {
     "data": {
      "text/plain": [
       "<meshplot.Viewer.Viewer at 0x74444a1725f0>"
      ]
     },
     "execution_count": 156,
     "metadata": {},
     "output_type": "execute_result"
    }
   ],
   "source": [
    "show_vdb_marching_cubes(dual_tensor)"
   ]
  },
  {
   "cell_type": "code",
   "execution_count": 158,
   "metadata": {},
   "outputs": [],
   "source": [
    "\n",
    "candidate_faces = dual_contouring(dual_tensor)\n",
    "faces = faces_ijk_to_index(candidate_faces, dilated_tensor.grid)\n",
    "faces = faces[(faces!=-1).all(-1)].cpu().detach().numpy()\n",
    "\n",
    "_, vstars, _, _ = DiffusionTensor.get_feature_data(dilated_tensor.jdata)\n",
    "# plot(vstars.cpu().detach().numpy(), faces)"
   ]
  },
  {
   "cell_type": "code",
   "execution_count": 159,
   "metadata": {},
   "outputs": [
    {
     "data": {
      "application/vnd.jupyter.widget-view+json": {
       "model_id": "d29d8fcd3e614f838e57db8f126509c0",
       "version_major": 2,
       "version_minor": 0
      },
      "text/plain": [
       "Renderer(camera=PerspectiveCamera(children=(DirectionalLight(color='white', intensity=0.6, position=(-0.000225…"
      ]
     },
     "metadata": {},
     "output_type": "display_data"
    },
    {
     "data": {
      "text/plain": [
       "<meshplot.Viewer.Viewer at 0x74444adcebf0>"
      ]
     },
     "execution_count": 159,
     "metadata": {},
     "output_type": "execute_result"
    }
   ],
   "source": [
    "plot(vstars.cpu().detach().numpy(), faces)"
   ]
  }
 ],
 "metadata": {
  "kernelspec": {
   "display_name": "fvdb_test",
   "language": "python",
   "name": "python3"
  },
  "language_info": {
   "codemirror_mode": {
    "name": "ipython",
    "version": 3
   },
   "file_extension": ".py",
   "mimetype": "text/x-python",
   "name": "python",
   "nbconvert_exporter": "python",
   "pygments_lexer": "ipython3",
   "version": "3.10.14"
  }
 },
 "nbformat": 4,
 "nbformat_minor": 2
}
