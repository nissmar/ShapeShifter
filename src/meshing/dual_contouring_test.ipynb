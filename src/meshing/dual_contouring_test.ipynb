{
 "cells": [
  {
   "cell_type": "code",
   "execution_count": 1,
   "metadata": {},
   "outputs": [],
   "source": [
    "import sys\n",
    "sys.path.append('../utils')\n",
    "import fvdb.nn as fvnn\n",
    "import torch \n",
    "import igl\n",
    "from diffusion_tensor import *\n",
    "import mesh_tools as mt\n",
    "import matplotlib.pyplot as plt\n",
    "from fvdb_utils import show_vdb_marching_cubes\n"
   ]
  },
  {
   "cell_type": "code",
   "execution_count": 2,
   "metadata": {},
   "outputs": [],
   "source": [
    "tens = torch.load('../../output/acropolis/gen_0_4.pt', weights_only=False)"
   ]
  },
  {
   "cell_type": "code",
   "execution_count": 3,
   "metadata": {},
   "outputs": [
    {
     "data": {
      "application/vnd.jupyter.widget-view+json": {
       "model_id": "70005966d76b434c906d88f6e3539462",
       "version_major": 2,
       "version_minor": 0
      },
      "text/plain": [
       "Renderer(camera=PerspectiveCamera(children=(DirectionalLight(color='white', intensity=0.6, position=(-0.000225…"
      ]
     },
     "metadata": {},
     "output_type": "display_data"
    },
    {
     "data": {
      "text/plain": [
       "<meshplot.Viewer.Viewer at 0x7dcd9d7cd570>"
      ]
     },
     "execution_count": 3,
     "metadata": {},
     "output_type": "execute_result"
    }
   ],
   "source": [
    "ind=2\n",
    "disp_d = DiffusionTensor(tens.grid[ind], tens.feature[ind]).remove_mask()\n",
    "disp_d.get_global().colored_PC(.07)"
   ]
  },
  {
   "cell_type": "markdown",
   "metadata": {},
   "source": [
    "### Test direct MC"
   ]
  },
  {
   "cell_type": "code",
   "execution_count": 188,
   "metadata": {},
   "outputs": [],
   "source": [
    "train_grid = disp_d\n",
    "train_grid.feature.jdata[:, 3:6] = torch.clip(train_grid.feature.jdata[:, 3:6], -.5, .5)"
   ]
  },
  {
   "cell_type": "code",
   "execution_count": 189,
   "metadata": {},
   "outputs": [
    {
     "name": "stdout",
     "output_type": "stream",
     "text": [
      "torch.Size([118504, 3])\n"
     ]
    }
   ],
   "source": [
    "dual_grid = train_grid.grid.dual_grid()\n",
    "dual_centers = dual_grid.grid_to_world(dual_grid.ijk.float())\n",
    "normals, vstars, _, mask = DiffusionTensor.get_feature_data(train_grid.get_global().jdata)\n",
    "# splat vstars + normals on dual grid\n",
    "print(vstars.shape)\n",
    "features = torch.cat((normals, (vstars*normals).sum(-1, True), torch.ones_like(vstars[:, :1])), -1)\n",
    "new_feature = dual_grid.splat_trilinear(train_grid.grid.jagged_like(vstars), train_grid.grid.jagged_like(features))\n",
    "\n",
    "nfdata = new_feature.jdata[:, :-1]/new_feature.jdata[:, -1:]\n",
    "dual_sign = (dual_centers.jdata*nfdata[:,:3]).sum(-1, True)-nfdata[:,3:]\n",
    "dual_sign = 2.*(dual_sign>0)-1\n",
    "dual_tens = fvnn.VDBTensor(dual_grid, dual_grid.jagged_like(dual_sign[:, None]))"
   ]
  },
  {
   "cell_type": "code",
   "execution_count": 190,
   "metadata": {},
   "outputs": [
    {
     "data": {
      "application/vnd.jupyter.widget-view+json": {
       "model_id": "e3814bc7e80b48a7b607e2d57ee697ea",
       "version_major": 2,
       "version_minor": 0
      },
      "text/plain": [
       "interactive(children=(IntSlider(value=114, description='s', max=228), Output()), _dom_classes=('widget-interac…"
      ]
     },
     "metadata": {},
     "output_type": "display_data"
    },
    {
     "data": {
      "text/plain": [
       "<function mesh_tools.plotSlice.<locals>.<lambda>(s)>"
      ]
     },
     "execution_count": 190,
     "metadata": {},
     "output_type": "execute_result"
    }
   ],
   "source": [
    "dual_data = dual_tens.to_dense().cpu().detach().numpy()\n",
    "primal_data = train_grid.to_dense().cpu().detach().numpy()\n",
    "\n",
    "mt.plotSlice(dual_data[0, ..., 0], .01)"
   ]
  },
  {
   "cell_type": "code",
   "execution_count": 191,
   "metadata": {},
   "outputs": [
    {
     "data": {
      "application/vnd.jupyter.widget-view+json": {
       "model_id": "cc254d9ff58f4752948da28def8f7060",
       "version_major": 2,
       "version_minor": 0
      },
      "text/plain": [
       "Renderer(camera=PerspectiveCamera(children=(DirectionalLight(color='white', intensity=0.6, position=(0.0, 0.0,…"
      ]
     },
     "metadata": {},
     "output_type": "display_data"
    },
    {
     "data": {
      "text/plain": [
       "<meshplot.Viewer.Viewer at 0x7db5a6605330>"
      ]
     },
     "execution_count": 191,
     "metadata": {},
     "output_type": "execute_result"
    }
   ],
   "source": [
    "show_vdb_marching_cubes(dual_tens)"
   ]
  },
  {
   "cell_type": "markdown",
   "metadata": {},
   "source": [
    "### Robust hierarchy"
   ]
  },
  {
   "cell_type": "code",
   "execution_count": 109,
   "metadata": {},
   "outputs": [],
   "source": [
    "def get_pool(self, k_s=2):\n",
    "    '''make sure it's global first'''\n",
    "    feature, grid = self.grid.avg_pool(k_s, self.feature, k_s)\n",
    "    feature.jdata /= feature.jdata[:, -1:].clone()\n",
    "    return  DiffusionTensor(grid, feature)\n"
   ]
  },
  {
   "cell_type": "code",
   "execution_count": 110,
   "metadata": {},
   "outputs": [],
   "source": [
    "global_fine_grid = disp_d.get_global()\n",
    "\n",
    "first_ks = 128\n",
    "primal_data = get_pool(global_fine_grid, first_ks)\n",
    "\n",
    "if not primal_data.to_dense()[..., -1].sum()==8:\n",
    "    print('WARNING: ASSUMPTION BROKEN')\n",
    "occupancy_tensor = fvnn.VDBTensor(primal_data.grid, primal_data.grid.jagged_like(torch.zeros(8, device='cuda')[:, None]))\n",
    "# -1: INSIDE, 0: ACTIVE, 1: OUTSIDE"
   ]
  },
  {
   "cell_type": "code",
   "execution_count": 111,
   "metadata": {},
   "outputs": [
    {
     "data": {
      "text/plain": [
       "tensor([[-1, -1, -1],\n",
       "        [-1, -1,  0],\n",
       "        [-1,  0, -1],\n",
       "        [-1,  0,  0],\n",
       "        [ 0, -1, -1],\n",
       "        [ 0, -1,  0],\n",
       "        [ 0,  0, -1],\n",
       "        [ 0,  0,  0]], device='cuda:0', dtype=torch.int32)"
      ]
     },
     "execution_count": 111,
     "metadata": {},
     "output_type": "execute_result"
    }
   ],
   "source": [
    "primal_data.grid.ijk.jdata"
   ]
  },
  {
   "cell_type": "code",
   "execution_count": 132,
   "metadata": {},
   "outputs": [
    {
     "ename": "OutOfMemoryError",
     "evalue": "CUDA out of memory. Tried to allocate 2.93 GiB. GPU 0 has a total capacity of 9.75 GiB of which 2.57 GiB is free. Including non-PyTorch memory, this process has 7.08 GiB memory in use. Of the allocated memory 6.65 GiB is allocated by PyTorch, and 186.89 MiB is reserved by PyTorch but unallocated. If reserved but unallocated memory is large try setting PYTORCH_CUDA_ALLOC_CONF=expandable_segments:True to avoid fragmentation.  See documentation for Memory Management  (https://pytorch.org/docs/stable/notes/cuda.html#environment-variables)",
     "output_type": "error",
     "traceback": [
      "\u001b[0;31m---------------------------------------------------------------------------\u001b[0m",
      "\u001b[0;31mOutOfMemoryError\u001b[0m                          Traceback (most recent call last)",
      "Cell \u001b[0;32mIn[132], line 21\u001b[0m\n\u001b[1;32m     18\u001b[0m points_neigh_idx \u001b[38;5;241m=\u001b[39m primal_data\u001b[38;5;241m.\u001b[39mgrid\u001b[38;5;241m.\u001b[39mneighbor_indexes(sub_grid\u001b[38;5;241m.\u001b[39mijk, \u001b[38;5;241m2\u001b[39m)\u001b[38;5;241m.\u001b[39mjdata\n\u001b[1;32m     19\u001b[0m mask_exists \u001b[38;5;241m=\u001b[39m (points_neigh_idx\u001b[38;5;241m!=\u001b[39m\u001b[38;5;241m-\u001b[39m\u001b[38;5;241m1\u001b[39m)\u001b[38;5;241m*\u001b[39m\u001b[38;5;241m1.\u001b[39m\n\u001b[0;32m---> 21\u001b[0m local_delta \u001b[38;5;241m=\u001b[39m (\u001b[43msub_centers\u001b[49m\u001b[38;5;241;43m.\u001b[39;49m\u001b[43mjdata\u001b[49m\u001b[38;5;241;43m.\u001b[39;49m\u001b[43munsqueeze\u001b[49m\u001b[43m(\u001b[49m\u001b[38;5;241;43m1\u001b[39;49m\u001b[43m)\u001b[49m\u001b[38;5;241;43m.\u001b[39;49m\u001b[43munsqueeze\u001b[49m\u001b[43m(\u001b[49m\u001b[38;5;241;43m1\u001b[39;49m\u001b[43m)\u001b[49m\u001b[38;5;241;43m.\u001b[39;49m\u001b[43munsqueeze\u001b[49m\u001b[43m(\u001b[49m\u001b[38;5;241;43m1\u001b[39;49m\u001b[43m)\u001b[49m\u001b[38;5;241;43m-\u001b[39;49m\u001b[43mvstars\u001b[49m\u001b[43m[\u001b[49m\u001b[43mpoints_neigh_idx\u001b[49m\u001b[43m]\u001b[49m)\n\u001b[1;32m     22\u001b[0m local_sdf \u001b[38;5;241m=\u001b[39m (local_delta\u001b[38;5;241m*\u001b[39mnormals[points_neigh_idx])\u001b[38;5;241m.\u001b[39msum(\u001b[38;5;241m-\u001b[39m\u001b[38;5;241m1\u001b[39m)\n\u001b[1;32m     23\u001b[0m local_sdf[torch\u001b[38;5;241m.\u001b[39mlogical_not(mask_exists)] \u001b[38;5;241m=\u001b[39m \u001b[38;5;241m0\u001b[39m\n",
      "\u001b[0;31mOutOfMemoryError\u001b[0m: CUDA out of memory. Tried to allocate 2.93 GiB. GPU 0 has a total capacity of 9.75 GiB of which 2.57 GiB is free. Including non-PyTorch memory, this process has 7.08 GiB memory in use. Of the allocated memory 6.65 GiB is allocated by PyTorch, and 186.89 MiB is reserved by PyTorch but unallocated. If reserved but unallocated memory is large try setting PYTORCH_CUDA_ALLOC_CONF=expandable_segments:True to avoid fragmentation.  See documentation for Memory Management  (https://pytorch.org/docs/stable/notes/cuda.html#environment-variables)"
     ]
    }
   ],
   "source": [
    "### KEEEP\n",
    "\n",
    "# see which are in the next level\n",
    "K=2\n",
    "current_ks=first_ks//K\n",
    "primal_data = get_pool(global_fine_grid, current_ks)\n",
    "normals, vstars, _, _ = DiffusionTensor.get_feature_data(primal_data.jdata)\n",
    "\n",
    "sub_features, sub_grid = occupancy_tensor.grid.subdivide(K, occupancy_tensor.feature)\n",
    "sub_centers = sub_grid.grid_to_world(sub_grid.ijk.float())\n",
    "\n",
    "is_void = (primal_data.grid.ijk_to_index(sub_grid.ijk).jdata == -1)[:, None] # subdivided voxel not in grid\n",
    "\n",
    "to_decide_sign = ((sub_features==0)*(is_void)).jdata # --> Decide sign\n",
    "# else keep value \n",
    "\n",
    "# --> Decide sign\n",
    "points_neigh_idx = primal_data.grid.neighbor_indexes(sub_grid.ijk, 2).jdata\n",
    "mask_exists = (points_neigh_idx!=-1)*1.\n",
    "\n",
    "local_delta = (sub_centers.jdata.unsqueeze(1).unsqueeze(1).unsqueeze(1)-vstars[points_neigh_idx])\n",
    "local_sdf = (local_delta*normals[points_neigh_idx]).sum(-1)\n",
    "local_sdf[torch.logical_not(mask_exists)] = 0\n",
    "local_dist = (local_delta**2).sum(-1)\n",
    "local_dist[torch.logical_not(mask_exists)] = 1e20\n",
    "\n",
    "predicted_sdf = (torch.softmax(-10000*local_dist.view(len(is_void), -1), -1)*local_sdf.view(len(is_void), -1))\n",
    "predicted_sdf = predicted_sdf.sum(-1, True)\n",
    "\n",
    "# sub_features.jdata[to_decide_sign] = 2.*(predicted_sdf[to_decide_sign]>0)-1\n",
    "sub_features.jdata[to_decide_sign] = predicted_sdf[to_decide_sign]\n",
    "\n",
    "# prune\n",
    "sub_neigh_idx = sub_grid.neighbor_indexes(sub_grid.ijk, 1).jdata\n",
    "\n",
    "# TODO\n",
    "\n",
    "occupancy_tensor = fvnn.VDBTensor(sub_grid, sub_features)\n",
    "\n",
    "first_ks = current_ks\n",
    "\n",
    "### Occupancy tensor: contains atoccupancy_tensor.grid.subdivide(2, occupancy_tensor.feature) each level, +1 for inside voxels, -1 for outside voxels, 0 for voxel containing the surface"
   ]
  },
  {
   "cell_type": "code",
   "execution_count": 129,
   "metadata": {},
   "outputs": [
    {
     "data": {
      "text/plain": [
       "tensor([[0.],\n",
       "        [0.],\n",
       "        [0.],\n",
       "        ...,\n",
       "        [0.],\n",
       "        [0.],\n",
       "        [0.]], device='cuda:0')"
      ]
     },
     "execution_count": 129,
     "metadata": {},
     "output_type": "execute_result"
    }
   ],
   "source": [
    "predicted_sdf"
   ]
  },
  {
   "cell_type": "code",
   "execution_count": 130,
   "metadata": {},
   "outputs": [],
   "source": [
    "# ### KEEEP\n",
    "# # prune\n",
    "# sub_neigh_idx = sub_grid.neighbor_indexes(sub_grid.ijk, 1).jdata\n",
    "\n",
    "# subdivided_occupancy_grid = fvnn.VDBTensor(sub_grid, sub_features)\n",
    "# # subdivided_occupancy_grid = fvnn.VDBTensor(sub_grid, sub_grid.jagged_like(p_sdf))"
   ]
  },
  {
   "cell_type": "code",
   "execution_count": 133,
   "metadata": {},
   "outputs": [
    {
     "data": {
      "application/vnd.jupyter.widget-view+json": {
       "model_id": "61a282e86d13470bb239de9aa6c9d462",
       "version_major": 2,
       "version_minor": 0
      },
      "text/plain": [
       "interactive(children=(IntSlider(value=57, description='s', max=113), Output()), _dom_classes=('widget-interact…"
      ]
     },
     "metadata": {},
     "output_type": "display_data"
    },
    {
     "data": {
      "text/plain": [
       "<function mesh_tools.plotSlice.<locals>.<lambda>(s)>"
      ]
     },
     "execution_count": 133,
     "metadata": {},
     "output_type": "execute_result"
    }
   ],
   "source": [
    "mt.plotSlice(primal_data.to_dense()[0, ..., -1].cpu().detach().numpy(), 1.)"
   ]
  },
  {
   "cell_type": "code",
   "execution_count": 108,
   "metadata": {},
   "outputs": [
    {
     "data": {
      "application/vnd.jupyter.widget-view+json": {
       "model_id": "08994703c6244d3e8416e359bbbe8ebc",
       "version_major": 2,
       "version_minor": 0
      },
      "text/plain": [
       "interactive(children=(IntSlider(value=16, description='s', max=31), Output()), _dom_classes=('widget-interact'…"
      ]
     },
     "metadata": {},
     "output_type": "display_data"
    },
    {
     "data": {
      "text/plain": [
       "<function mesh_tools.plotSlice.<locals>.<lambda>(s)>"
      ]
     },
     "execution_count": 108,
     "metadata": {},
     "output_type": "execute_result"
    }
   ],
   "source": [
    "mt.plotSlice(occupancy_tensor.to_dense()[0, ..., 0].cpu().detach().numpy(), .1)"
   ]
  },
  {
   "cell_type": "code",
   "execution_count": null,
   "metadata": {},
   "outputs": [],
   "source": []
  },
  {
   "cell_type": "code",
   "execution_count": null,
   "metadata": {},
   "outputs": [],
   "source": []
  }
 ],
 "metadata": {
  "kernelspec": {
   "display_name": "fvdb_test",
   "language": "python",
   "name": "python3"
  },
  "language_info": {
   "codemirror_mode": {
    "name": "ipython",
    "version": 3
   },
   "file_extension": ".py",
   "mimetype": "text/x-python",
   "name": "python",
   "nbconvert_exporter": "python",
   "pygments_lexer": "ipython3",
   "version": "3.10.14"
  }
 },
 "nbformat": 4,
 "nbformat_minor": 2
}
