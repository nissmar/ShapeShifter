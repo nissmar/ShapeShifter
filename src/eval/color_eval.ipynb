{
 "cells": [
  {
   "cell_type": "code",
   "execution_count": 2,
   "metadata": {},
   "outputs": [],
   "source": [
    "import os\n",
    "import random\n",
    "import glob\n",
    "import numpy as np\n",
    "import argparse\n",
    "import torch\n",
    "import torch.nn.functional as F\n",
    "import json\n",
    "from tqdm import tqdm\n",
    "from patch_utils import eval_LP_given_paths, eval_Div_given_paths\n",
    "from ssfid import eval_SSFID_given_paths\n",
    "from sifid import calculate_multiview_sifid_given_paths\n",
    "from lpips import calculate_multiview_lpips_given_paths"
   ]
  },
  {
   "cell_type": "code",
   "execution_count": 2,
   "metadata": {},
   "outputs": [],
   "source": [
    "# from PIL import Image\n",
    "# fname='/home/nmaruani/Pi3olo/data/gen_Sin3DGen/acropolis/generated/s202976/renderings/rgb/000.png'\n",
    "# # fname='/home/nmaruani/Pi3olo/data/SIN3DM_renderings/acropolis/000.png'\n",
    "# images = np.array([\n",
    "#     np.asarray(Image.open(fname).convert('RGB')) / 255.\n",
    "# ])\n",
    "# import matplotlib.pyplot as plt\n",
    "# plt.imshow(images[0])"
   ]
  },
  {
   "cell_type": "code",
   "execution_count": null,
   "metadata": {},
   "outputs": [
    {
     "name": "stderr",
     "output_type": "stream",
     "text": [
      "Calculating multi-view SIFID: 100%|██████████| 8/8 [00:04<00:00,  1.92it/s]\n"
     ]
    },
    {
     "name": "stdout",
     "output_type": "stream",
     "text": [
      "lpips n_views: 8\n"
     ]
    },
    {
     "name": "stderr",
     "output_type": "stream",
     "text": [
      "Calculating multi-view LPIPS:  50%|█████     | 4/8 [00:01<00:01,  2.76it/s]\n"
     ]
    },
    {
     "ename": "KeyboardInterrupt",
     "evalue": "",
     "output_type": "error",
     "traceback": [
      "\u001b[0;31m---------------------------------------------------------------------------\u001b[0m",
      "\u001b[0;31mKeyboardInterrupt\u001b[0m                         Traceback (most recent call last)",
      "Cell \u001b[0;32mIn[5], line 15\u001b[0m\n\u001b[1;32m     12\u001b[0m sifid_dict64 \u001b[38;5;241m=\u001b[39m calculate_multiview_sifid_given_paths(gen_render_dirs, ref_render_dir, device\u001b[38;5;241m=\u001b[39mdevice, dims\u001b[38;5;241m=\u001b[39m\u001b[38;5;241m64\u001b[39m)\n\u001b[1;32m     13\u001b[0m SIFID\u001b[38;5;241m.\u001b[39mappend(sifid_dict64[\u001b[38;5;124m'\u001b[39m\u001b[38;5;124mmv_sifid_dim64\u001b[39m\u001b[38;5;124m'\u001b[39m])\n\u001b[0;32m---> 15\u001b[0m lpips_dict \u001b[38;5;241m=\u001b[39m \u001b[43mcalculate_multiview_lpips_given_paths\u001b[49m\u001b[43m(\u001b[49m\u001b[43mgen_render_dirs\u001b[49m\u001b[43m,\u001b[49m\u001b[43m \u001b[49m\u001b[43mdevice\u001b[49m\u001b[38;5;241;43m=\u001b[39;49m\u001b[43mdevice\u001b[49m\u001b[43m)\u001b[49m\n\u001b[1;32m     16\u001b[0m LPIPS\u001b[38;5;241m.\u001b[39mappend(lpips_dict[\u001b[38;5;124m'\u001b[39m\u001b[38;5;124mmv_lpips\u001b[39m\u001b[38;5;124m'\u001b[39m])\n",
      "File \u001b[0;32m~/anaconda3/envs/fvdb_test/lib/python3.10/site-packages/torch/utils/_contextlib.py:116\u001b[0m, in \u001b[0;36mcontext_decorator.<locals>.decorate_context\u001b[0;34m(*args, **kwargs)\u001b[0m\n\u001b[1;32m    113\u001b[0m \u001b[38;5;129m@functools\u001b[39m\u001b[38;5;241m.\u001b[39mwraps(func)\n\u001b[1;32m    114\u001b[0m \u001b[38;5;28;01mdef\u001b[39;00m \u001b[38;5;21mdecorate_context\u001b[39m(\u001b[38;5;241m*\u001b[39margs, \u001b[38;5;241m*\u001b[39m\u001b[38;5;241m*\u001b[39mkwargs):\n\u001b[1;32m    115\u001b[0m     \u001b[38;5;28;01mwith\u001b[39;00m ctx_factory():\n\u001b[0;32m--> 116\u001b[0m         \u001b[38;5;28;01mreturn\u001b[39;00m \u001b[43mfunc\u001b[49m\u001b[43m(\u001b[49m\u001b[38;5;241;43m*\u001b[39;49m\u001b[43margs\u001b[49m\u001b[43m,\u001b[49m\u001b[43m \u001b[49m\u001b[38;5;241;43m*\u001b[39;49m\u001b[38;5;241;43m*\u001b[39;49m\u001b[43mkwargs\u001b[49m\u001b[43m)\u001b[49m\n",
      "File \u001b[0;32m~/Pi3olo/eval/lpips.py:130\u001b[0m, in \u001b[0;36mcalculate_multiview_lpips_given_paths\u001b[0;34m(gen_render_dirs, device)\u001b[0m\n\u001b[1;32m    127\u001b[0m     images \u001b[38;5;241m=\u001b[39m images\u001b[38;5;241m.\u001b[39mtranspose((\u001b[38;5;241m0\u001b[39m, \u001b[38;5;241m3\u001b[39m, \u001b[38;5;241m1\u001b[39m, \u001b[38;5;241m2\u001b[39m))\n\u001b[1;32m    128\u001b[0m     images \u001b[38;5;241m=\u001b[39m torch\u001b[38;5;241m.\u001b[39mfrom_numpy(images)\u001b[38;5;241m.\u001b[39mtype(torch\u001b[38;5;241m.\u001b[39mFloatTensor)\u001b[38;5;241m.\u001b[39mto(device) \u001b[38;5;66;03m# (N, C, H, W)\u001b[39;00m\n\u001b[0;32m--> 130\u001b[0m     lpips_view_value \u001b[38;5;241m=\u001b[39m \u001b[43mcalculate_lpips_given_images\u001b[49m\u001b[43m(\u001b[49m\u001b[43mimages\u001b[49m\u001b[43m,\u001b[49m\u001b[43m \u001b[49m\u001b[43mlpips_model\u001b[49m\u001b[43m)\u001b[49m\n\u001b[1;32m    131\u001b[0m     lpips_list\u001b[38;5;241m.\u001b[39mappend(lpips_view_value)\n\u001b[1;32m    132\u001b[0m lpips_avg \u001b[38;5;241m=\u001b[39m np\u001b[38;5;241m.\u001b[39mmean(lpips_list)\n",
      "File \u001b[0;32m~/anaconda3/envs/fvdb_test/lib/python3.10/site-packages/torch/utils/_contextlib.py:116\u001b[0m, in \u001b[0;36mcontext_decorator.<locals>.decorate_context\u001b[0;34m(*args, **kwargs)\u001b[0m\n\u001b[1;32m    113\u001b[0m \u001b[38;5;129m@functools\u001b[39m\u001b[38;5;241m.\u001b[39mwraps(func)\n\u001b[1;32m    114\u001b[0m \u001b[38;5;28;01mdef\u001b[39;00m \u001b[38;5;21mdecorate_context\u001b[39m(\u001b[38;5;241m*\u001b[39margs, \u001b[38;5;241m*\u001b[39m\u001b[38;5;241m*\u001b[39mkwargs):\n\u001b[1;32m    115\u001b[0m     \u001b[38;5;28;01mwith\u001b[39;00m ctx_factory():\n\u001b[0;32m--> 116\u001b[0m         \u001b[38;5;28;01mreturn\u001b[39;00m \u001b[43mfunc\u001b[49m\u001b[43m(\u001b[49m\u001b[38;5;241;43m*\u001b[39;49m\u001b[43margs\u001b[49m\u001b[43m,\u001b[49m\u001b[43m \u001b[49m\u001b[38;5;241;43m*\u001b[39;49m\u001b[38;5;241;43m*\u001b[39;49m\u001b[43mkwargs\u001b[49m\u001b[43m)\u001b[49m\n",
      "File \u001b[0;32m~/Pi3olo/eval/lpips.py:103\u001b[0m, in \u001b[0;36mcalculate_lpips_given_images\u001b[0;34m(group_of_images, lpips_model)\u001b[0m\n\u001b[1;32m    101\u001b[0m \u001b[38;5;28;01mfor\u001b[39;00m i \u001b[38;5;129;01min\u001b[39;00m \u001b[38;5;28mrange\u001b[39m(num_rand_outputs\u001b[38;5;241m-\u001b[39m\u001b[38;5;241m1\u001b[39m):\n\u001b[1;32m    102\u001b[0m     \u001b[38;5;28;01mfor\u001b[39;00m j \u001b[38;5;129;01min\u001b[39;00m \u001b[38;5;28mrange\u001b[39m(i\u001b[38;5;241m+\u001b[39m\u001b[38;5;241m1\u001b[39m, num_rand_outputs):\n\u001b[0;32m--> 103\u001b[0m         lpips_values\u001b[38;5;241m.\u001b[39mappend(\u001b[43mlpips\u001b[49m\u001b[43m(\u001b[49m\u001b[43mgroup_of_images\u001b[49m\u001b[43m[\u001b[49m\u001b[43mi\u001b[49m\u001b[43m]\u001b[49m\u001b[43m,\u001b[49m\u001b[43m \u001b[49m\u001b[43mgroup_of_images\u001b[49m\u001b[43m[\u001b[49m\u001b[43mj\u001b[49m\u001b[43m]\u001b[49m\u001b[43m)\u001b[49m)\n\u001b[1;32m    104\u001b[0m lpips_value \u001b[38;5;241m=\u001b[39m torch\u001b[38;5;241m.\u001b[39mmean(torch\u001b[38;5;241m.\u001b[39mstack(lpips_values, dim\u001b[38;5;241m=\u001b[39m\u001b[38;5;241m0\u001b[39m))\n\u001b[1;32m    105\u001b[0m \u001b[38;5;28;01mreturn\u001b[39;00m lpips_value\u001b[38;5;241m.\u001b[39mitem()\n",
      "File \u001b[0;32m~/anaconda3/envs/fvdb_test/lib/python3.10/site-packages/torch/nn/modules/module.py:1553\u001b[0m, in \u001b[0;36mModule._wrapped_call_impl\u001b[0;34m(self, *args, **kwargs)\u001b[0m\n\u001b[1;32m   1551\u001b[0m     \u001b[38;5;28;01mreturn\u001b[39;00m \u001b[38;5;28mself\u001b[39m\u001b[38;5;241m.\u001b[39m_compiled_call_impl(\u001b[38;5;241m*\u001b[39margs, \u001b[38;5;241m*\u001b[39m\u001b[38;5;241m*\u001b[39mkwargs)  \u001b[38;5;66;03m# type: ignore[misc]\u001b[39;00m\n\u001b[1;32m   1552\u001b[0m \u001b[38;5;28;01melse\u001b[39;00m:\n\u001b[0;32m-> 1553\u001b[0m     \u001b[38;5;28;01mreturn\u001b[39;00m \u001b[38;5;28;43mself\u001b[39;49m\u001b[38;5;241;43m.\u001b[39;49m\u001b[43m_call_impl\u001b[49m\u001b[43m(\u001b[49m\u001b[38;5;241;43m*\u001b[39;49m\u001b[43margs\u001b[49m\u001b[43m,\u001b[49m\u001b[43m \u001b[49m\u001b[38;5;241;43m*\u001b[39;49m\u001b[38;5;241;43m*\u001b[39;49m\u001b[43mkwargs\u001b[49m\u001b[43m)\u001b[49m\n",
      "File \u001b[0;32m~/anaconda3/envs/fvdb_test/lib/python3.10/site-packages/torch/nn/modules/module.py:1562\u001b[0m, in \u001b[0;36mModule._call_impl\u001b[0;34m(self, *args, **kwargs)\u001b[0m\n\u001b[1;32m   1557\u001b[0m \u001b[38;5;66;03m# If we don't have any hooks, we want to skip the rest of the logic in\u001b[39;00m\n\u001b[1;32m   1558\u001b[0m \u001b[38;5;66;03m# this function, and just call forward.\u001b[39;00m\n\u001b[1;32m   1559\u001b[0m \u001b[38;5;28;01mif\u001b[39;00m \u001b[38;5;129;01mnot\u001b[39;00m (\u001b[38;5;28mself\u001b[39m\u001b[38;5;241m.\u001b[39m_backward_hooks \u001b[38;5;129;01mor\u001b[39;00m \u001b[38;5;28mself\u001b[39m\u001b[38;5;241m.\u001b[39m_backward_pre_hooks \u001b[38;5;129;01mor\u001b[39;00m \u001b[38;5;28mself\u001b[39m\u001b[38;5;241m.\u001b[39m_forward_hooks \u001b[38;5;129;01mor\u001b[39;00m \u001b[38;5;28mself\u001b[39m\u001b[38;5;241m.\u001b[39m_forward_pre_hooks\n\u001b[1;32m   1560\u001b[0m         \u001b[38;5;129;01mor\u001b[39;00m _global_backward_pre_hooks \u001b[38;5;129;01mor\u001b[39;00m _global_backward_hooks\n\u001b[1;32m   1561\u001b[0m         \u001b[38;5;129;01mor\u001b[39;00m _global_forward_hooks \u001b[38;5;129;01mor\u001b[39;00m _global_forward_pre_hooks):\n\u001b[0;32m-> 1562\u001b[0m     \u001b[38;5;28;01mreturn\u001b[39;00m \u001b[43mforward_call\u001b[49m\u001b[43m(\u001b[49m\u001b[38;5;241;43m*\u001b[39;49m\u001b[43margs\u001b[49m\u001b[43m,\u001b[49m\u001b[43m \u001b[49m\u001b[38;5;241;43m*\u001b[39;49m\u001b[38;5;241;43m*\u001b[39;49m\u001b[43mkwargs\u001b[49m\u001b[43m)\u001b[49m\n\u001b[1;32m   1564\u001b[0m \u001b[38;5;28;01mtry\u001b[39;00m:\n\u001b[1;32m   1565\u001b[0m     result \u001b[38;5;241m=\u001b[39m \u001b[38;5;28;01mNone\u001b[39;00m\n",
      "File \u001b[0;32m~/Pi3olo/eval/lpips.py:84\u001b[0m, in \u001b[0;36mLPIPS.forward\u001b[0;34m(self, x, y)\u001b[0m\n\u001b[1;32m     82\u001b[0m     x_fmap \u001b[38;5;241m=\u001b[39m normalize(x_fmap)\n\u001b[1;32m     83\u001b[0m     y_fmap \u001b[38;5;241m=\u001b[39m normalize(y_fmap)\n\u001b[0;32m---> 84\u001b[0m     lpips_value \u001b[38;5;241m+\u001b[39m\u001b[38;5;241m=\u001b[39m torch\u001b[38;5;241m.\u001b[39mmean(conv1x1(\u001b[43m(\u001b[49m\u001b[43mx_fmap\u001b[49m\u001b[43m \u001b[49m\u001b[38;5;241;43m-\u001b[39;49m\u001b[43m \u001b[49m\u001b[43my_fmap\u001b[49m\u001b[43m)\u001b[49m\u001b[38;5;241;43m*\u001b[39;49m\u001b[38;5;241;43m*\u001b[39;49m\u001b[38;5;241;43m2\u001b[39;49m))\n\u001b[1;32m     85\u001b[0m \u001b[38;5;28;01mreturn\u001b[39;00m lpips_value\n",
      "File \u001b[0;32m~/anaconda3/envs/fvdb_test/lib/python3.10/site-packages/torch/_tensor.py:41\u001b[0m, in \u001b[0;36m_handle_torch_function_and_wrap_type_error_to_not_implemented.<locals>.wrapped\u001b[0;34m(*args, **kwargs)\u001b[0m\n\u001b[1;32m     39\u001b[0m     \u001b[38;5;28;01mif\u001b[39;00m has_torch_function(args):\n\u001b[1;32m     40\u001b[0m         \u001b[38;5;28;01mreturn\u001b[39;00m handle_torch_function(wrapped, args, \u001b[38;5;241m*\u001b[39margs, \u001b[38;5;241m*\u001b[39m\u001b[38;5;241m*\u001b[39mkwargs)\n\u001b[0;32m---> 41\u001b[0m     \u001b[38;5;28;01mreturn\u001b[39;00m \u001b[43mf\u001b[49m\u001b[43m(\u001b[49m\u001b[38;5;241;43m*\u001b[39;49m\u001b[43margs\u001b[49m\u001b[43m,\u001b[49m\u001b[43m \u001b[49m\u001b[38;5;241;43m*\u001b[39;49m\u001b[38;5;241;43m*\u001b[39;49m\u001b[43mkwargs\u001b[49m\u001b[43m)\u001b[49m\n\u001b[1;32m     42\u001b[0m \u001b[38;5;28;01mexcept\u001b[39;00m \u001b[38;5;167;01mTypeError\u001b[39;00m:\n\u001b[1;32m     43\u001b[0m     \u001b[38;5;28;01mreturn\u001b[39;00m \u001b[38;5;28mNotImplemented\u001b[39m\n",
      "\u001b[0;31mKeyboardInterrupt\u001b[0m: "
     ]
    }
   ],
   "source": [
    "\n",
    "names = os.listdir(\"../data/gen_SIN3DM_normalize\")\n",
    "names.sort()\n",
    "\n",
    "SIFID = []\n",
    "LPIPS = []\n",
    "device=\"cuda\"\n",
    "\n",
    "for name in names:\n",
    "    \n",
    "    ref_render_dir = \"/home/nmaruani/Pi3olo/data/SIN3DM_renderings/{}/\".format(name)\n",
    "    gen_render_dirs = ['/home/nmaruani/ReImpl/Sin3DM/src/checkpoints/{}/results10/00{}/renderings/'.format(name, i) for i in range(10)]\n",
    "    sifid_dict64 = calculate_multiview_sifid_given_paths(gen_render_dirs, ref_render_dir, device=device, dims=64)\n",
    "    SIFID.append(sifid_dict64['mv_sifid_dim64'])\n",
    "    \n",
    "    lpips_dict = calculate_multiview_lpips_given_paths(gen_render_dirs, device=device)\n",
    "    LPIPS.append(lpips_dict['mv_lpips'])\n",
    "    "
   ]
  },
  {
   "cell_type": "code",
   "execution_count": null,
   "metadata": {},
   "outputs": [],
   "source": [
    "\n",
    "print(r'T-Qual. $\\downarrow$ & Sin3DM & {} \\\\'.format('   &    '.join(['{:.3f}' for e in SIFID]).format(*SIFID)))\n",
    "print(r'\\hline') \n",
    "print(r'T-Div.  $\\uparrow$   & Sin3DM  & {} \\\\'.format('   &    '.join(['{:.3f}' for e in LPIPS]).format(*LPIPS)))\n"
   ]
  },
  {
   "cell_type": "markdown",
   "metadata": {},
   "source": [
    "### Sin3DGen"
   ]
  },
  {
   "cell_type": "code",
   "execution_count": 2,
   "metadata": {},
   "outputs": [],
   "source": [
    "# '../data/SIN3DGen/{}/generated/*/rgb/'.format(name)"
   ]
  },
  {
   "cell_type": "code",
   "execution_count": 2,
   "metadata": {},
   "outputs": [
    {
     "name": "stderr",
     "output_type": "stream",
     "text": [
      "Calculating multi-view SIFID: 100%|██████████| 8/8 [00:04<00:00,  1.92it/s]\n",
      "/home/nmaruani/Pi3olo/eval/lpips.py:69: FutureWarning: You are using `torch.load` with `weights_only=False` (the current default value), which uses the default pickle module implicitly. It is possible to construct malicious pickle data which will execute arbitrary code during unpickling (See https://github.com/pytorch/pytorch/blob/main/SECURITY.md#untrusted-models for more details). In a future release, the default value for `weights_only` will be flipped to `True`. This limits the functions that could be executed during unpickling. Arbitrary objects will no longer be allowed to be loaded via this mode unless they are explicitly allowlisted by the user via `torch.serialization.add_safe_globals`. We recommend you start setting `weights_only=True` for any use case where you don't have full control of the loaded file. Please open an issue on GitHub for any issues related to this experimental feature.\n",
      "  state_dict = torch.load('lpips_weights.ckpt',\n"
     ]
    },
    {
     "name": "stdout",
     "output_type": "stream",
     "text": [
      "lpips n_views: 8\n"
     ]
    },
    {
     "name": "stderr",
     "output_type": "stream",
     "text": [
      "Calculating multi-view LPIPS: 100%|██████████| 8/8 [00:02<00:00,  2.97it/s]\n",
      "Calculating multi-view SIFID: 100%|██████████| 8/8 [00:03<00:00,  2.57it/s]\n"
     ]
    },
    {
     "name": "stdout",
     "output_type": "stream",
     "text": [
      "lpips n_views: 8\n"
     ]
    },
    {
     "name": "stderr",
     "output_type": "stream",
     "text": [
      "Calculating multi-view LPIPS: 100%|██████████| 8/8 [00:02<00:00,  3.92it/s]\n",
      "Calculating multi-view SIFID: 100%|██████████| 8/8 [00:03<00:00,  2.57it/s]\n"
     ]
    },
    {
     "name": "stdout",
     "output_type": "stream",
     "text": [
      "lpips n_views: 8\n"
     ]
    },
    {
     "name": "stderr",
     "output_type": "stream",
     "text": [
      "Calculating multi-view LPIPS: 100%|██████████| 8/8 [00:02<00:00,  3.49it/s]\n",
      "Calculating multi-view SIFID: 100%|██████████| 8/8 [00:03<00:00,  2.22it/s]\n"
     ]
    },
    {
     "name": "stdout",
     "output_type": "stream",
     "text": [
      "lpips n_views: 8\n"
     ]
    },
    {
     "name": "stderr",
     "output_type": "stream",
     "text": [
      "Calculating multi-view LPIPS: 100%|██████████| 8/8 [00:02<00:00,  3.68it/s]\n",
      "Calculating multi-view SIFID: 100%|██████████| 8/8 [00:03<00:00,  2.06it/s]\n"
     ]
    },
    {
     "name": "stdout",
     "output_type": "stream",
     "text": [
      "lpips n_views: 8\n"
     ]
    },
    {
     "name": "stderr",
     "output_type": "stream",
     "text": [
      "Calculating multi-view LPIPS: 100%|██████████| 8/8 [00:02<00:00,  3.48it/s]\n",
      "Calculating multi-view SIFID: 100%|██████████| 8/8 [00:03<00:00,  2.25it/s]\n"
     ]
    },
    {
     "name": "stdout",
     "output_type": "stream",
     "text": [
      "lpips n_views: 8\n"
     ]
    },
    {
     "name": "stderr",
     "output_type": "stream",
     "text": [
      "Calculating multi-view LPIPS: 100%|██████████| 8/8 [00:01<00:00,  4.32it/s]\n",
      "Calculating multi-view SIFID: 100%|██████████| 8/8 [00:02<00:00,  2.81it/s]\n"
     ]
    },
    {
     "name": "stdout",
     "output_type": "stream",
     "text": [
      "lpips n_views: 8\n"
     ]
    },
    {
     "name": "stderr",
     "output_type": "stream",
     "text": [
      "Calculating multi-view LPIPS: 100%|██████████| 8/8 [00:01<00:00,  4.58it/s]\n",
      "Calculating multi-view SIFID: 100%|██████████| 8/8 [00:03<00:00,  2.58it/s]\n"
     ]
    },
    {
     "name": "stdout",
     "output_type": "stream",
     "text": [
      "lpips n_views: 8\n"
     ]
    },
    {
     "name": "stderr",
     "output_type": "stream",
     "text": [
      "Calculating multi-view LPIPS: 100%|██████████| 8/8 [00:02<00:00,  3.42it/s]\n"
     ]
    }
   ],
   "source": [
    "\n",
    "names = os.listdir(\"../data/gen_SIN3DM_normalize\")\n",
    "names.sort()\n",
    "\n",
    "SIFID = []\n",
    "LPIPS = []\n",
    "device=\"cuda\"\n",
    "\n",
    "for name in names:\n",
    "    ref_render_dir = '../data/gen_Sin3DGen/{}/reference/renderings/'.format(name)\n",
    "    # ref_render_dir = \"/home/nmaruani/Pi3olo/data/SIN3DM_renderings/{}/\".format(name)\n",
    "    gen_render_dirs = glob.glob('../data/gen_Sin3DGen/{}/generated/**/renderings/rgb/'.format(name))\n",
    "    sifid_dict64 = calculate_multiview_sifid_given_paths(gen_render_dirs, ref_render_dir, device=device, dims=64)\n",
    "    SIFID.append(sifid_dict64['mv_sifid_dim64'])\n",
    "    \n",
    "    lpips_dict = calculate_multiview_lpips_given_paths(gen_render_dirs, device=device)\n",
    "    LPIPS.append(lpips_dict['mv_lpips'])\n",
    "    "
   ]
  },
  {
   "cell_type": "code",
   "execution_count": 3,
   "metadata": {},
   "outputs": [
    {
     "name": "stdout",
     "output_type": "stream",
     "text": [
      "T-Qual. $\\downarrow$ & Sin3DGen & 0.004   &    0.006   &    0.004   &    0.003   &    0.036   &    0.056   &    0.003   &    0.003 \\\\\n",
      "\\hline\n",
      "T-Div.  $\\uparrow$   & Sin3DGen  & 0.053   &    0.233   &    0.132   &    0.060   &    0.322   &    0.295   &    0.112   &    0.045 \\\\\n"
     ]
    }
   ],
   "source": [
    "\n",
    "print(r'T-Qual. $\\downarrow$ & Sin3DGen & {} \\\\'.format('   &    '.join(['{:.3f}' for e in SIFID]).format(*SIFID)))\n",
    "print(r'\\hline') \n",
    "print(r'T-Div.  $\\uparrow$   & Sin3DGen  & {} \\\\'.format('   &    '.join(['{:.3f}' for e in LPIPS]).format(*LPIPS)))\n"
   ]
  },
  {
   "cell_type": "code",
   "execution_count": 4,
   "metadata": {},
   "outputs": [
    {
     "name": "stdout",
     "output_type": "stream",
     "text": [
      "T-Qual. $\\downarrow$ & Sin3DGen & 3.806   &    1.841   &    4.654   &    2.781   &    2.582   &    2.665   &    3.756   &    4.248 \\\\\n",
      "\\hline\n",
      "T-Div.  $\\uparrow$   & Sin3DGen  & 0.053   &    0.233   &    0.132   &    0.060   &    0.322   &    0.295   &    0.112   &    0.045 \\\\\n"
     ]
    }
   ],
   "source": [
    "\n",
    "print(r'T-Qual. $\\downarrow$ & Sin3DGen & {} \\\\'.format('   &    '.join(['{:.3f}' for e in SIFID]).format(*SIFID)))\n",
    "print(r'\\hline') \n",
    "print(r'T-Div.  $\\uparrow$   & Sin3DGen  & {} \\\\'.format('   &    '.join(['{:.3f}' for e in LPIPS]).format(*LPIPS)))\n"
   ]
  },
  {
   "cell_type": "markdown",
   "metadata": {},
   "source": [
    "### Ours"
   ]
  },
  {
   "cell_type": "code",
   "execution_count": 3,
   "metadata": {},
   "outputs": [
    {
     "name": "stdout",
     "output_type": "stream",
     "text": [
      "acropolis\n"
     ]
    },
    {
     "name": "stderr",
     "output_type": "stream",
     "text": [
      "Calculating multi-view SIFID: 100%|██████████| 8/8 [00:03<00:00,  2.18it/s]\n",
      "/home/nmaruani/Pi3olo/eval/lpips.py:69: FutureWarning: You are using `torch.load` with `weights_only=False` (the current default value), which uses the default pickle module implicitly. It is possible to construct malicious pickle data which will execute arbitrary code during unpickling (See https://github.com/pytorch/pytorch/blob/main/SECURITY.md#untrusted-models for more details). In a future release, the default value for `weights_only` will be flipped to `True`. This limits the functions that could be executed during unpickling. Arbitrary objects will no longer be allowed to be loaded via this mode unless they are explicitly allowlisted by the user via `torch.serialization.add_safe_globals`. We recommend you start setting `weights_only=True` for any use case where you don't have full control of the loaded file. Please open an issue on GitHub for any issues related to this experimental feature.\n",
      "  state_dict = torch.load('lpips_weights.ckpt',\n"
     ]
    },
    {
     "name": "stdout",
     "output_type": "stream",
     "text": [
      "lpips n_views: 8\n"
     ]
    },
    {
     "name": "stderr",
     "output_type": "stream",
     "text": [
      "Calculating multi-view LPIPS: 100%|██████████| 8/8 [00:02<00:00,  3.37it/s]\n"
     ]
    },
    {
     "name": "stdout",
     "output_type": "stream",
     "text": [
      "canyon\n"
     ]
    },
    {
     "name": "stderr",
     "output_type": "stream",
     "text": [
      "Calculating multi-view SIFID: 100%|██████████| 8/8 [00:03<00:00,  2.36it/s]\n"
     ]
    },
    {
     "name": "stdout",
     "output_type": "stream",
     "text": [
      "lpips n_views: 8\n"
     ]
    },
    {
     "name": "stderr",
     "output_type": "stream",
     "text": [
      "Calculating multi-view LPIPS: 100%|██████████| 8/8 [00:02<00:00,  3.86it/s]\n"
     ]
    },
    {
     "name": "stdout",
     "output_type": "stream",
     "text": [
      "fighting-pillar\n"
     ]
    },
    {
     "name": "stderr",
     "output_type": "stream",
     "text": [
      "Calculating multi-view SIFID: 100%|██████████| 8/8 [00:03<00:00,  2.47it/s]\n"
     ]
    },
    {
     "name": "stdout",
     "output_type": "stream",
     "text": [
      "lpips n_views: 8\n"
     ]
    },
    {
     "name": "stderr",
     "output_type": "stream",
     "text": [
      "Calculating multi-view LPIPS: 100%|██████████| 8/8 [00:02<00:00,  3.97it/s]\n"
     ]
    },
    {
     "name": "stdout",
     "output_type": "stream",
     "text": [
      "house\n"
     ]
    },
    {
     "name": "stderr",
     "output_type": "stream",
     "text": [
      "Calculating multi-view SIFID: 100%|██████████| 8/8 [00:03<00:00,  2.53it/s]\n"
     ]
    },
    {
     "name": "stdout",
     "output_type": "stream",
     "text": [
      "lpips n_views: 8\n"
     ]
    },
    {
     "name": "stderr",
     "output_type": "stream",
     "text": [
      "Calculating multi-view LPIPS: 100%|██████████| 8/8 [00:01<00:00,  4.25it/s]\n"
     ]
    },
    {
     "name": "stdout",
     "output_type": "stream",
     "text": [
      "ruined-tower\n"
     ]
    },
    {
     "name": "stderr",
     "output_type": "stream",
     "text": [
      "Calculating multi-view SIFID: 100%|██████████| 8/8 [00:03<00:00,  2.37it/s]\n"
     ]
    },
    {
     "name": "stdout",
     "output_type": "stream",
     "text": [
      "lpips n_views: 8\n"
     ]
    },
    {
     "name": "stderr",
     "output_type": "stream",
     "text": [
      "Calculating multi-view LPIPS: 100%|██████████| 8/8 [00:02<00:00,  3.87it/s]\n"
     ]
    },
    {
     "name": "stdout",
     "output_type": "stream",
     "text": [
      "small-town\n"
     ]
    },
    {
     "name": "stderr",
     "output_type": "stream",
     "text": [
      "Calculating multi-view SIFID: 100%|██████████| 8/8 [00:03<00:00,  2.52it/s]\n"
     ]
    },
    {
     "name": "stdout",
     "output_type": "stream",
     "text": [
      "lpips n_views: 8\n"
     ]
    },
    {
     "name": "stderr",
     "output_type": "stream",
     "text": [
      "Calculating multi-view LPIPS: 100%|██████████| 8/8 [00:01<00:00,  4.16it/s]\n"
     ]
    },
    {
     "name": "stdout",
     "output_type": "stream",
     "text": [
      "stone-cliff\n"
     ]
    },
    {
     "name": "stderr",
     "output_type": "stream",
     "text": [
      "Calculating multi-view SIFID: 100%|██████████| 8/8 [00:03<00:00,  2.59it/s]\n"
     ]
    },
    {
     "name": "stdout",
     "output_type": "stream",
     "text": [
      "lpips n_views: 8\n"
     ]
    },
    {
     "name": "stderr",
     "output_type": "stream",
     "text": [
      "Calculating multi-view LPIPS: 100%|██████████| 8/8 [00:01<00:00,  4.35it/s]\n"
     ]
    },
    {
     "name": "stdout",
     "output_type": "stream",
     "text": [
      "wood\n"
     ]
    },
    {
     "name": "stderr",
     "output_type": "stream",
     "text": [
      "Calculating multi-view SIFID: 100%|██████████| 8/8 [00:03<00:00,  2.59it/s]\n"
     ]
    },
    {
     "name": "stdout",
     "output_type": "stream",
     "text": [
      "lpips n_views: 8\n"
     ]
    },
    {
     "name": "stderr",
     "output_type": "stream",
     "text": [
      "Calculating multi-view LPIPS: 100%|██████████| 8/8 [00:01<00:00,  4.39it/s]\n"
     ]
    }
   ],
   "source": [
    "SRC = \"textured_output_6_11_double_color\"\n",
    "SRC = \"textured_output_10_11\"\n",
    "\n",
    "SRC = \"textured_output_11_11\"\n",
    "NUM_EVAL = 10 # TODO CHANGE TO 10 \n",
    "\n",
    "names = os.listdir(\"../data/gen_SIN3DM_normalize\")\n",
    "names.sort()\n",
    "\n",
    "SIFID = []\n",
    "LPIPS = []\n",
    "device=\"cuda\"\n",
    "\n",
    "for name in names:\n",
    "    print(name)\n",
    "    ref_render_dir = \"/home/nmaruani/Pi3olo/data/SIN3DM_renderings/{}/\".format(name)\n",
    "    gen_render_dirs = ['/home/nmaruani/Pi3olo/{}/{}/00{}/renderings/'.format(SRC, name, i) for i in range(NUM_EVAL)]\n",
    "    sifid_dict64 = calculate_multiview_sifid_given_paths(gen_render_dirs, ref_render_dir, device=device, dims=64)\n",
    "    SIFID.append(sifid_dict64['mv_sifid_dim64'])\n",
    "    \n",
    "    lpips_dict = calculate_multiview_lpips_given_paths(gen_render_dirs, device=device)\n",
    "    LPIPS.append(lpips_dict['mv_lpips'])\n"
   ]
  },
  {
   "cell_type": "code",
   "execution_count": 4,
   "metadata": {},
   "outputs": [
    {
     "name": "stdout",
     "output_type": "stream",
     "text": [
      "T-Qual. $\\downarrow$ & ours & 0.040   &    0.063   &    0.026   &    0.041   &    0.112   &    0.153   &    0.017   &    0.012 \\\\\n",
      "\\hline\n",
      "T-Div.  $\\uparrow$   & ours  & 0.029   &    0.244   &    0.179   &    0.041   &    0.164   &    0.292   &    0.147   &    0.042 \\\\\n"
     ]
    }
   ],
   "source": [
    "\n",
    "print(r'T-Qual. $\\downarrow$ & ours & {} \\\\'.format('   &    '.join(['{:.3f}' for e in SIFID]).format(*SIFID)))\n",
    "print(r'\\hline') \n",
    "print(r'T-Div.  $\\uparrow$   & ours  & {} \\\\'.format('   &    '.join(['{:.3f}' for e in LPIPS]).format(*LPIPS)))\n"
   ]
  },
  {
   "cell_type": "code",
   "execution_count": null,
   "metadata": {},
   "outputs": [
    {
     "name": "stdout",
     "output_type": "stream",
     "text": [
      "T-Qual. $\\downarrow$ & ours & 0.036   &    0.067   &    0.032   &    0.048   &    0.113   &    0.220   &    0.014   &    0.020 \\\\\n",
      "\\hline\n",
      "T-Div.  $\\uparrow$   & ours  & 0.045   &    0.245   &    0.255   &    0.038   &    0.173   &    0.260   &    0.148   &    0.057 \\\\\n"
     ]
    }
   ],
   "source": [
    "\n",
    "print(r'T-Qual. $\\downarrow$ & ours & {} \\\\'.format('   &    '.join(['{:.3f}' for e in SIFID]).format(*SIFID)))\n",
    "print(r'\\hline') \n",
    "print(r'T-Div.  $\\uparrow$   & ours  & {} \\\\'.format('   &    '.join(['{:.3f}' for e in LPIPS]).format(*LPIPS)))\n"
   ]
  },
  {
   "cell_type": "code",
   "execution_count": 8,
   "metadata": {},
   "outputs": [
    {
     "name": "stdout",
     "output_type": "stream",
     "text": [
      "T-Qual. $\\downarrow$ & ours & 0.042   &    0.086   &    0.071   &    0.062   &    0.228   &    0.296   &    0.016   &    0.033 \\\\\n",
      "\\hline\n",
      "T-Div.  $\\uparrow$   & ours  & 0.045   &    0.224   &    0.210   &    0.044   &    0.246   &    0.299   &    0.142   &    0.043 \\\\\n"
     ]
    }
   ],
   "source": [
    "\n",
    "print(r'T-Qual. $\\downarrow$ & ours & {} \\\\'.format('   &    '.join(['{:.3f}' for e in SIFID]).format(*SIFID)))\n",
    "print(r'\\hline') \n",
    "print(r'T-Div.  $\\uparrow$   & ours  & {} \\\\'.format('   &    '.join(['{:.3f}' for e in LPIPS]).format(*LPIPS)))\n"
   ]
  },
  {
   "cell_type": "markdown",
   "metadata": {},
   "source": [
    "### Eval Single"
   ]
  },
  {
   "cell_type": "code",
   "execution_count": 8,
   "metadata": {},
   "outputs": [
    {
     "name": "stderr",
     "output_type": "stream",
     "text": [
      "Calculating multi-view SIFID: 100%|██████████| 8/8 [00:00<00:00, 13.51it/s]\n"
     ]
    },
    {
     "data": {
      "text/plain": [
       "{'mv_sifid_dim64': 0.05609673648089514}"
      ]
     },
     "execution_count": 8,
     "metadata": {},
     "output_type": "execute_result"
    }
   ],
   "source": [
    "name=\"fighting-pillar\"\n",
    "ref_render_dir = \"/home/nmaruani/Pi3olo/data/SIN3DM_renderings/{}/\".format(name)\n",
    "\n",
    "calculate_multiview_sifid_given_paths([\"../Yifan_test_small_city/{}/renderings/\".format(name)], ref_render_dir)"
   ]
  }
 ],
 "metadata": {
  "kernelspec": {
   "display_name": "fvdb_test",
   "language": "python",
   "name": "python3"
  },
  "language_info": {
   "codemirror_mode": {
    "name": "ipython",
    "version": 3
   },
   "file_extension": ".py",
   "mimetype": "text/x-python",
   "name": "python",
   "nbconvert_exporter": "python",
   "pygments_lexer": "ipython3",
   "version": "3.10.14"
  }
 },
 "nbformat": 4,
 "nbformat_minor": 2
}
