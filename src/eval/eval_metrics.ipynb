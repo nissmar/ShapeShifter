{
 "cells": [
  {
   "cell_type": "code",
   "execution_count": 1,
   "metadata": {},
   "outputs": [],
   "source": [
    "import sys\n",
    "sys.path.append('../utils')\n",
    "import fvdb\n",
    "import fvdb_utils\n",
    "import mesh_tools as mt\n",
    "import igl\n",
    "import numpy as np\n",
    "from ssfid import calculate_activation_statistics, calculate_frechet_distance\n",
    "from patch_utils import pairwise_IoU_dist\n",
    "from classifier3D import classifier\n",
    "import torch\n",
    "import os\n",
    "import glob\n",
    "from tqdm import tqdm\n",
    "import trimesh \n",
    "\n",
    "device='cuda'"
   ]
  },
  {
   "cell_type": "code",
   "execution_count": 2,
   "metadata": {},
   "outputs": [],
   "source": [
    "voxel_size = 256\n",
    "model = classifier(voxel_size=voxel_size)\n",
    "\n",
    "weights_path = 'Clsshapenet_'+str(voxel_size)+'.pth'\n",
    "if not os.path.exists(weights_path):\n",
    "    raise RuntimeError(\n",
    "        f\"'{weights_path}' not exists. Please download it from https://drive.google.com/file/d/1HjnDudrXsNY4CYhIGhH4Q0r3-NBnBaiC/view?usp=sharing.\")\n",
    "model.load_state_dict(torch.load(weights_path, weights_only=False))\n",
    "model.to(device)\n",
    "model.eval()\n",
    "\n",
    "names = os.listdir(\"../../data/GT_WT\")\n",
    "names.sort()"
   ]
  },
  {
   "cell_type": "code",
   "execution_count": 3,
   "metadata": {},
   "outputs": [],
   "source": [
    "def sample_grid_points_aabb(aabb, resolution):\n",
    "    aabb_min, aabb_max = aabb[:3], aabb[3:]\n",
    "    aabb_size = aabb_max - aabb_min\n",
    "    resolutions = (resolution * aabb_size / aabb_size.max()).astype(np.int32)\n",
    "\n",
    "    xs = np.linspace(0.5, resolutions[0] - 0.5, resolutions[0]) / resolutions[0] * aabb_size[0] + aabb_min[0]\n",
    "    ys = np.linspace(0.5, resolutions[1] - 0.5, resolutions[1]) / resolutions[1] * aabb_size[1] + aabb_min[1]\n",
    "    zs = np.linspace(0.5, resolutions[2] - 0.5, resolutions[2]) / resolutions[2] * aabb_size[2] + aabb_min[2]\n",
    "    grid_points = np.stack(np.meshgrid(xs, ys, zs, indexing='ij'), axis=-1)\n",
    "    return grid_points\n",
    "\n",
    "def normalize_aabb(v, reso, enlarge_scale=1.03, mult=8):\n",
    "    aabb_min = np.min(v, axis=0)\n",
    "    aabb_max = np.max(v, axis=0)\n",
    "    center = (aabb_max + aabb_min) / 2\n",
    "    bbox_size = (aabb_max - aabb_min).max() * enlarge_scale\n",
    "    translation = -center\n",
    "    scale = 1.0 / bbox_size * 2\n",
    "    # v = (v + translation) * scale\n",
    "    # v = (v - center) / bbox_size * 2\n",
    "    aabb_min = (aabb_min * enlarge_scale - center) / bbox_size * 2\n",
    "    aabb_max = (aabb_max * enlarge_scale - center) / bbox_size * 2\n",
    "    aabb = np.concatenate([aabb_min, aabb_max], axis=0)\n",
    "    aabb_size = aabb_max - aabb_min\n",
    "    fm_size = (reso * aabb_size / aabb_size.max()).astype(np.int32)\n",
    "    # round to multiple of 8\n",
    "    fm_size = (fm_size + mult - 1) // mult * mult\n",
    "    aabb_max = fm_size / fm_size.max()\n",
    "    aabb = np.concatenate([-aabb_max, aabb_max], axis=0)\n",
    "    return aabb, translation, scale"
   ]
  },
  {
   "cell_type": "code",
   "execution_count": 4,
   "metadata": {},
   "outputs": [],
   "source": [
    "def get_dense_array_tight(shape_path, pts=None, translation=None, scale=None):\n",
    "    ms = trimesh.load(shape_path)\n",
    "    v = ms.vertices\n",
    "    f = ms.faces\n",
    "    # v, f = igl.read_triangle_mesh(shape_path)\n",
    "    if pts is None:\n",
    "        out_grid = True\n",
    "        v = 2*mt.NDCnormalize(v)\n",
    "        aabb, translation, scale = normalize_aabb(v, 256)\n",
    "        v = (v+translation)*scale\n",
    "        pts = sample_grid_points_aabb(aabb, 256)\n",
    "\n",
    "    else:\n",
    "        out_grid = False\n",
    "        v = (v+translation)*scale\n",
    "        \n",
    "    sdf_compute = igl.fast_winding_number_for_meshes(v, f, pts.reshape(-1, 3))>.5\n",
    "    or_sdfgrid = sdf_compute.reshape(pts.shape[:-1])\n",
    "    new_shape = [int(x * voxel_size / max(or_sdfgrid.shape))\n",
    "                        for x in or_sdfgrid.shape]\n",
    "\n",
    "    or_sdfgrid = torch.nn.functional.adaptive_max_pool3d(1.*torch.tensor(or_sdfgrid[None, None], device=device), new_shape)[0, 0]>0\n",
    "    or_sdfgrid = 1.*or_sdfgrid\n",
    "    if out_grid:\n",
    "        return or_sdfgrid, pts, translation, scale\n",
    "    return or_sdfgrid\n"
   ]
  },
  {
   "cell_type": "code",
   "execution_count": 5,
   "metadata": {},
   "outputs": [],
   "source": [
    "\n",
    "def get_metrics(globe, mesh_name):\n",
    "    shapes = glob.glob(globe.format(mesh_name))\n",
    "    shapes.sort()\n",
    "    # print(shapes)\n",
    "    or_sdfgrid, pts, translation, scale = get_dense_array_tight(\"../../data/GT_WT/{}.obj\".format(mesh_name))\n",
    "    mu_r, sigma_r = calculate_activation_statistics(or_sdfgrid, model)\n",
    "    ssfid_values = []\n",
    "    grids = []\n",
    "    for shape in shapes:\n",
    "        dense_grid = get_dense_array_tight(shape, pts, translation, scale)\n",
    "        mu_f, sigma_f = calculate_activation_statistics(dense_grid, model)\n",
    "        ssfid = calculate_frechet_distance(mu_r, sigma_r, mu_f, sigma_f)\n",
    "        print(ssfid)\n",
    "        ssfid_values.append(ssfid)\n",
    "        grids.append(dense_grid)\n",
    "    return np.mean(ssfid_values).round(4), pairwise_IoU_dist(torch.stack(grids, dim=0)).round(4)\n",
    "\n"
   ]
  },
  {
   "cell_type": "markdown",
   "metadata": {},
   "source": [
    "### Ours"
   ]
  },
  {
   "cell_type": "code",
   "execution_count": 8,
   "metadata": {},
   "outputs": [
    {
     "name": "stderr",
     "output_type": "stream",
     "text": [
      "  0%|          | 0/8 [00:00<?, ?it/s]"
     ]
    },
    {
     "name": "stdout",
     "output_type": "stream",
     "text": [
      "0.004732269651512411\n",
      "0.00307772070581791\n",
      "0.007658762343396575\n",
      "0.005493369046789098\n",
      "0.0062049652391635846\n",
      "0.004415247648871912\n",
      "0.004356549786081132\n",
      "0.007717780726949286\n",
      "0.004497226279355004\n"
     ]
    },
    {
     "name": "stderr",
     "output_type": "stream",
     "text": [
      " 12%|█▎        | 1/8 [00:31<03:39, 31.37s/it]"
     ]
    },
    {
     "name": "stdout",
     "output_type": "stream",
     "text": [
      "0.007479221466766717\n",
      "0.02479684906095514\n",
      "0.06856322977947116\n",
      "0.04666025168242527\n",
      "0.016465378277686682\n",
      "0.13155625727571874\n",
      "0.28342016796712954\n",
      "0.13468316837840177\n",
      "0.039199289514925795\n",
      "0.3286345817660248\n"
     ]
    },
    {
     "name": "stderr",
     "output_type": "stream",
     "text": [
      " 25%|██▌       | 2/8 [00:47<02:15, 22.53s/it]"
     ]
    },
    {
     "name": "stdout",
     "output_type": "stream",
     "text": [
      "0.03838958198152653\n",
      "0.053967399957159046\n",
      "0.06933170132650446\n",
      "0.05905072074386908\n",
      "0.061020937476257586\n",
      "0.15640483546187056\n",
      "0.09145830884321526\n",
      "0.042931194440683385\n",
      "0.08450713195863102\n",
      "0.041488301420500306\n"
     ]
    },
    {
     "name": "stderr",
     "output_type": "stream",
     "text": [
      " 38%|███▊      | 3/8 [01:00<01:31, 18.28s/it]"
     ]
    },
    {
     "name": "stdout",
     "output_type": "stream",
     "text": [
      "0.13632699667473958\n",
      "0.00681299043228023\n",
      "0.0065010944049745945\n",
      "0.0050279130536878824\n",
      "0.004544067803671226\n",
      "0.00461947960727116\n",
      "0.003355190055792434\n",
      "0.007423057630987273\n",
      "0.0031674436597768363\n",
      "0.004507888271668037\n"
     ]
    },
    {
     "name": "stderr",
     "output_type": "stream",
     "text": [
      " 50%|█████     | 4/8 [01:18<01:12, 18.14s/it]"
     ]
    },
    {
     "name": "stdout",
     "output_type": "stream",
     "text": [
      "0.005396878211712419\n",
      "0.09479627344581587\n",
      "0.13910600536566164\n",
      "0.03212229893158991\n",
      "0.043871798146199126\n",
      "0.0314478341241653\n",
      "0.1476601252606713\n",
      "0.04907015858648833\n",
      "0.06485508585379307\n",
      "0.0340882287233768\n"
     ]
    },
    {
     "name": "stderr",
     "output_type": "stream",
     "text": [
      " 62%|██████▎   | 5/8 [01:43<01:01, 20.58s/it]"
     ]
    },
    {
     "name": "stdout",
     "output_type": "stream",
     "text": [
      "0.07407100716390858\n",
      "1.078281804100925\n",
      "0.1927610127983641\n",
      "0.45394724377622\n",
      "0.09922638765368674\n",
      "0.2112448081004743\n",
      "0.03935018419974057\n",
      "0.4524272412805388\n",
      "0.6012131410116552\n",
      "0.3303676870269996\n"
     ]
    },
    {
     "name": "stderr",
     "output_type": "stream",
     "text": [
      " 75%|███████▌  | 6/8 [01:56<00:36, 18.07s/it]"
     ]
    },
    {
     "name": "stdout",
     "output_type": "stream",
     "text": [
      "0.33169628840485643\n",
      "0.06617421377750787\n",
      "0.16362994264123643\n",
      "0.09559280376041812\n",
      "0.06285362764987212\n",
      "0.30394454837421847\n",
      "0.056022154544919545\n",
      "0.011202007935864344\n",
      "0.20972336967756178\n",
      "0.06153999496918061\n"
     ]
    },
    {
     "name": "stderr",
     "output_type": "stream",
     "text": [
      " 88%|████████▊ | 7/8 [02:13<00:17, 17.63s/it]"
     ]
    },
    {
     "name": "stdout",
     "output_type": "stream",
     "text": [
      "0.0502383576527663\n",
      "0.0007669216777372867\n",
      "0.003154429412042248\n",
      "0.052025607269349905\n",
      "0.04314092928968449\n",
      "0.018508777197766335\n",
      "0.008168825054688966\n",
      "0.000799816224983374\n",
      "0.0008762311451349092\n",
      "0.0009487346467835778\n"
     ]
    },
    {
     "name": "stderr",
     "output_type": "stream",
     "text": [
      "100%|██████████| 8/8 [02:31<00:00, 18.98s/it]"
     ]
    },
    {
     "name": "stdout",
     "output_type": "stream",
     "text": [
      "0.0407359373369971\n"
     ]
    },
    {
     "name": "stderr",
     "output_type": "stream",
     "text": [
      "\n"
     ]
    }
   ],
   "source": [
    "names = [e[:-4] for e in os.listdir('../../data/GT_WT')]\n",
    "names.sort()\n",
    "str_path = '../../textured_output/{}/**/large_mesh.ply'\n",
    "\n",
    "ours_ssfid = []\n",
    "ours_iou = []\n",
    "for name in tqdm(names):\n",
    "    ssfid, io = get_metrics(str_path, name)\n",
    "    ours_ssfid.append(ssfid)\n",
    "    ours_iou.append(io)\n",
    "  "
   ]
  },
  {
   "cell_type": "code",
   "execution_count": 9,
   "metadata": {},
   "outputs": [
    {
     "data": {
      "text/plain": [
       "0.0970875"
      ]
     },
     "execution_count": 9,
     "metadata": {},
     "output_type": "execute_result"
    }
   ],
   "source": [
    "np.array(ours_ssfid).mean()"
   ]
  },
  {
   "cell_type": "code",
   "execution_count": 10,
   "metadata": {},
   "outputs": [
    {
     "data": {
      "text/plain": [
       "0.19713749999999997"
      ]
     },
     "execution_count": 10,
     "metadata": {},
     "output_type": "execute_result"
    }
   ],
   "source": [
    "np.array(ours_iou).mean()"
   ]
  },
  {
   "cell_type": "code",
   "execution_count": 11,
   "metadata": {},
   "outputs": [],
   "source": [
    "ssfid_data = ours_ssfid + [np.array(ours_ssfid).mean()]\n",
    "iou_data = ours_iou + [np.array(ours_iou).mean()]"
   ]
  },
  {
   "cell_type": "code",
   "execution_count": 12,
   "metadata": {},
   "outputs": [
    {
     "name": "stdout",
     "output_type": "stream",
     "text": [
      "\\begin{tabular}{ l |c|  c  c  c  c  c  c  c  c  | c }\n",
      "Metric & Method               & acropolis & canyon & fighting-pillar & house & ruined-tower & small-town & stone-cliff & wood & mean \\\\\n",
      "\\hline\n",
      "G-Qual. $\\downarrow$ & ours & 0.006   &    0.111   &    0.080   &    0.005   &    0.071   &    0.379   &    0.108   &    0.017   &    0.097\\\\\n",
      "\\hline\n",
      "G-Div. $\\uparrow$ & ours    & 0.026   &    0.210   &    0.100   &    0.008   &    0.401   &    0.536   &    0.208   &    0.089   &    0.197\\\\\n",
      "\\end{tabular}\n"
     ]
    }
   ],
   "source": [
    "ssfid_data = ours_ssfid + [np.array(ours_ssfid).mean()]\n",
    "iou_data = ours_iou + [np.array(ours_iou).mean()]\n",
    "print(r\"\\begin{tabular}{ l |c| \" +\"\".join([' c ' for e in names]) + r\" | c }\")\n",
    "\n",
    "print(r'Metric & Method               & {} & mean \\\\'.format(' & '.join(names)))\n",
    "print(r'\\hline')\n",
    "print(r'G-Qual. $\\downarrow$ & ours & {}\\\\'.format('   &    '.join(['{:.3f}' for e in ssfid_data]).format(*ssfid_data)))\n",
    "print(r'\\hline') \n",
    "print(r'G-Div. $\\uparrow$ & ours    & {}\\\\'.format('   &    '.join(['{:.3f}' for e in iou_data]).format(*iou_data)))\n",
    "print(r\"\\end{tabular}\")\n"
   ]
  },
  {
   "cell_type": "code",
   "execution_count": 21,
   "metadata": {},
   "outputs": [],
   "source": [
    "\n",
    "# print(r\"\\begin{tabular}{ l |c| \" +\"\".join([' c ' for e in names]) + r\"}\")\n",
    "\n",
    "# print(r'Metric & Method               & {} \\\\'.format(' & '.join(names)))\n",
    "# print(r'\\hline')\n",
    "# print(r'G-Qual. $\\downarrow$ & ours & {} \\\\'.format('   &    '.join(['{:.3f}' for e in ours_ssfid]).format(*ours_ssfid)))\n",
    "# print(r'\\hline') \n",
    "# print(r'G-Div. $\\uparrow$ & ours    & {} \\\\'.format('   &    '.join(['{:.3f}' for e in ours_iou]).format(*ours_iou)))\n",
    "# print(r\"\\end{tabular}\")\n"
   ]
  },
  {
   "cell_type": "markdown",
   "metadata": {},
   "source": [
    "### Sin3DM vs ground truth"
   ]
  },
  {
   "cell_type": "code",
   "execution_count": null,
   "metadata": {},
   "outputs": [],
   "source": [
    "names = os.listdir(\"../data/gen_SIN3DM_normalize\")\n",
    "names.sort()\n",
    "\n",
    "'Metric & Method & ' +' & '.join(names)\n",
    "Sin3DM_ssfid = []\n",
    "Sin3DM_iou = []\n",
    "for name in tqdm(names):\n",
    "    ssfid, io = get_metrics('../data/gen_SIN3DM_normalize/{}/**.obj', name)\n",
    "    Sin3DM_ssfid.append(ssfid)\n",
    "    Sin3DM_iou.append(io)\n",
    "  "
   ]
  },
  {
   "cell_type": "code",
   "execution_count": null,
   "metadata": {},
   "outputs": [],
   "source": [
    "\n",
    "print(r'G-Qual. $\\downarrow$ & Sin3DM (v. GT, ${}^3$) & {} \\\\'.format(voxel_size, '   &    '.join(['{:.3f}' for e in Sin3DM_ssfid]).format(*Sin3DM_ssfid)))\n",
    "print(r'\\hline') \n",
    "print(r'G-Div. $\\uparrow$ & Sin3DM (v. GT, ${}^3$)   & {} \\\\'.format(voxel_size, '   &    '.join(['{:.3f}' for e in Sin3DM_iou]).format(*Sin3DM_iou)))\n"
   ]
  },
  {
   "cell_type": "code",
   "execution_count": null,
   "metadata": {},
   "outputs": [],
   "source": [
    "\n",
    "print(r'G-Qual. $\\downarrow$ & Sin3DM (v. GT, ${}^3$) & {} \\\\'.format(voxel_size, '   &    '.join(['{:.3f}' for e in Sin3DM_ssfid]).format(*Sin3DM_ssfid)))\n",
    "print(r'\\hline') \n",
    "print(r'G-Div. $\\uparrow$ & Sin3DM (v. GT, ${}^3$)   & {} \\\\'.format(voxel_size, '   &    '.join(['{:.3f}' for e in Sin3DM_iou]).format(*Sin3DM_iou)))\n"
   ]
  },
  {
   "cell_type": "markdown",
   "metadata": {},
   "source": [
    "### SIN3DGen"
   ]
  },
  {
   "cell_type": "code",
   "execution_count": null,
   "metadata": {},
   "outputs": [],
   "source": [
    "name='acropolis'\n",
    "shapes = glob.glob('../data/gen_Sin3DGen/{}/generated/*/mesh_normalized2.obj'.format(name))\n",
    "shapes.sort()\n",
    "# print(shapes)\n",
    "or_sdfgrid, pts, translation, scale = get_dense_array_tight(\"../data/SIN3DM_WT/{}.obj\".format(name))\n",
    "for shape in shapes:\n",
    "    dense_grid = get_dense_array_tight(shape, pts, translation, scale)\n",
    "    break"
   ]
  },
  {
   "cell_type": "code",
   "execution_count": null,
   "metadata": {},
   "outputs": [],
   "source": [
    "mt.plotSlice(dense_grid.cpu().detach().numpy(), 1.)"
   ]
  },
  {
   "cell_type": "code",
   "execution_count": null,
   "metadata": {},
   "outputs": [],
   "source": [
    "mt.plotSlice(or_sdfgrid.cpu().detach().numpy(), 1.)"
   ]
  },
  {
   "cell_type": "code",
   "execution_count": null,
   "metadata": {},
   "outputs": [],
   "source": [
    "names = os.listdir(\"../data/gen_SIN3DM_normalize\")\n",
    "names.sort()\n",
    "\n",
    "'Metric & Method & ' +' & '.join(names)\n",
    "Sin3DM_ssfid = []\n",
    "Sin3DM_iou = []\n",
    "for name in tqdm(names):\n",
    "    ssfid, io = get_metrics('../data/gen_Sin3DGen/{}/generated/*/mesh_normalized2.obj', name)\n",
    "    Sin3DM_ssfid.append(ssfid)\n",
    "    Sin3DM_iou.append(io)\n",
    "  "
   ]
  },
  {
   "cell_type": "code",
   "execution_count": null,
   "metadata": {},
   "outputs": [],
   "source": [
    "print(r'Metric & Method               & acropolis & canyon & fighting-pillar & house & ruined-tower & small-town & stone-cliff & wood & mean \\\\')"
   ]
  },
  {
   "cell_type": "code",
   "execution_count": null,
   "metadata": {},
   "outputs": [],
   "source": [
    "\n",
    "print(r'G-Qual. $\\downarrow$ & Sin3DGen & {} \\\\'.format('   &    '.join(['{:.3f}' for e in Sin3DM_ssfid]).format(*Sin3DM_ssfid)))\n",
    "print(r'\\hline') \n",
    "print(r'G-Div. $\\uparrow$ & Sin3DGen & {} \\\\'.format('   &    '.join(['{:.3f}' for e in Sin3DM_iou]).format(*Sin3DM_iou)))\n"
   ]
  },
  {
   "cell_type": "code",
   "execution_count": null,
   "metadata": {},
   "outputs": [],
   "source": [
    "\n",
    "print(r'G-Qual. $\\downarrow$ & Sin3DGen & {} \\\\'.format('   &    '.join(['{:.3f}' for e in Sin3DM_ssfid]).format(*Sin3DM_ssfid)))\n",
    "print(r'\\hline') \n",
    "print(r'G-Div. $\\uparrow$ & Sin3DGen & {} \\\\'.format('   &    '.join(['{:.3f}' for e in Sin3DM_iou]).format(*Sin3DM_iou)))\n"
   ]
  },
  {
   "cell_type": "code",
   "execution_count": null,
   "metadata": {},
   "outputs": [],
   "source": [
    "'   &    '.join(['{:.3f}' for e in Sin3DM_ssfid]).format(*Sin3DM_ssfid)"
   ]
  },
  {
   "cell_type": "markdown",
   "metadata": {},
   "source": [
    "### SingleShapeGen"
   ]
  },
  {
   "cell_type": "code",
   "execution_count": 19,
   "metadata": {},
   "outputs": [
    {
     "name": "stdout",
     "output_type": "stream",
     "text": [
      "0.9112766021164163\n",
      "0.917415638895676\n",
      "0.9059105065902742\n",
      "0.909388446260607\n",
      "0.9138022859380612\n",
      "0.9088840802786251\n",
      "0.9003095853019971\n",
      "0.9121874921727766\n",
      "0.9124322647566316\n",
      "0.9029681114707415\n",
      "0.9095 0.0122\n"
     ]
    }
   ],
   "source": [
    "names = os.listdir(\"../data/gen_SIN3DM_normalize\")\n",
    "names.sort()\n",
    "\n",
    "'Metric & Method & ' +' & '.join(names)\n",
    "Sin3DM_ssfid = []\n",
    "Sin3DM_iou = []\n",
    "ssfid, io = get_metrics('/home/nmaruani/ReImpl/SingleShapeGen/eval/{}/*.obj', 'house')\n",
    "print(ssfid, io)\n"
   ]
  },
  {
   "cell_type": "markdown",
   "metadata": {},
   "source": [
    "### Make mean"
   ]
  },
  {
   "cell_type": "code",
   "execution_count": null,
   "metadata": {},
   "outputs": [],
   "source": [
    "import numpy as np\n",
    "\n",
    "L1 = \"\"\"Sin3DGen & 4.832   &    6.158   &    8.453   &    17.951   &    6.984   &    4.020   &    13.023   &    10.323\n",
    "Sin3DM & 0.915   &    2.227   &    0.262   &    2.009   &    0.495   &    0.845   &    0.023   &    0.086 \n",
    "ours & 0.007   &    0.211   &    0.263   &    0.006   &    0.109   &    1.005   &    0.099   &    0.020\n",
    "Sin3DGen & 0.252   &    0.498   &    0.594   &    0.406   &    0.864   &    0.702   &    0.646   &    0.438\n",
    "Sin3DM  & 0.123   &    0.173   &    0.150   &    0.011   &    0.208   &    0.600   &    0.316   &    0.102 \n",
    "ours & 0.039   &    0.188   &    0.237   &    0.007   &    0.315   &    0.598   &    0.230   &    0.081\"\"\"\n",
    "\n",
    "m = L1.replace(\" \", \"\").split('\\n')\n",
    "names = [e.split('&')[0] for e in m]\n",
    "res = np.array([e.split('&')[1:] for e in m]).astype(float)\n",
    "means = res.mean(1)\n",
    "for i in range(6):\n",
    "    print(names[i] +'  &  ' + '   &    '.join(['{:.2f}' for e in res[i]]).format(*res[i]) + f' &  {means[i]:.2f}')"
   ]
  },
  {
   "cell_type": "markdown",
   "metadata": {},
   "source": [
    "### Noise"
   ]
  },
  {
   "cell_type": "code",
   "execution_count": 34,
   "metadata": {},
   "outputs": [],
   "source": [
    "m = torch.rand(2,256,256,256)>.5"
   ]
  },
  {
   "cell_type": "code",
   "execution_count": 39,
   "metadata": {},
   "outputs": [],
   "source": [
    "m = torch.zeros((2,256,256,256))\n",
    "for i in range(len(m)):\n",
    "    m[i,i]=1"
   ]
  },
  {
   "cell_type": "code",
   "execution_count": 40,
   "metadata": {},
   "outputs": [
    {
     "data": {
      "text/plain": [
       "1.0"
      ]
     },
     "execution_count": 40,
     "metadata": {},
     "output_type": "execute_result"
    }
   ],
   "source": [
    "pairwise_IoU_dist(m)"
   ]
  },
  {
   "cell_type": "code",
   "execution_count": null,
   "metadata": {},
   "outputs": [],
   "source": []
  }
 ],
 "metadata": {
  "kernelspec": {
   "display_name": "fvdb_test",
   "language": "python",
   "name": "python3"
  },
  "language_info": {
   "codemirror_mode": {
    "name": "ipython",
    "version": 3
   },
   "file_extension": ".py",
   "mimetype": "text/x-python",
   "name": "python",
   "nbconvert_exporter": "python",
   "pygments_lexer": "ipython3",
   "version": "3.10.14"
  }
 },
 "nbformat": 4,
 "nbformat_minor": 2
}
