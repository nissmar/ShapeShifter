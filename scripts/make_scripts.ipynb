{
 "cells": [
  {
   "cell_type": "code",
   "execution_count": 1,
   "metadata": {},
   "outputs": [],
   "source": [
    "import os"
   ]
  },
  {
   "cell_type": "code",
   "execution_count": 5,
   "metadata": {},
   "outputs": [
    {
     "name": "stdout",
     "output_type": "stream",
     "text": [
      "python src/diffusion/train_upsamplers_colors.py -model_name \"fighting-pillar\" -level 1 -config $CFG\n",
      "python src/diffusion/train_upsamplers_colors.py -model_name \"wood\" -level 1 -config $CFG\n",
      "python src/diffusion/train_upsamplers_colors.py -model_name \"small-town\" -level 1 -config $CFG\n",
      "python src/diffusion/train_upsamplers_colors.py -model_name \"ruined-tower\" -level 1 -config $CFG\n",
      "python src/diffusion/train_upsamplers_colors.py -model_name \"acropolis\" -level 1 -config $CFG\n",
      "python src/diffusion/train_upsamplers_colors.py -model_name \"house\" -level 1 -config $CFG\n",
      "python src/diffusion/train_upsamplers_colors.py -model_name \"stone-cliff\" -level 1 -config $CFG\n",
      "python src/diffusion/train_upsamplers_colors.py -model_name \"canyon\" -level 1 -config $CFG\n",
      "python src/diffusion/train_upsamplers_colors.py -model_name \"fighting-pillar\" -level 2 -config $CFG\n",
      "python src/diffusion/train_upsamplers_colors.py -model_name \"wood\" -level 2 -config $CFG\n",
      "python src/diffusion/train_upsamplers_colors.py -model_name \"small-town\" -level 2 -config $CFG\n",
      "python src/diffusion/train_upsamplers_colors.py -model_name \"ruined-tower\" -level 2 -config $CFG\n",
      "python src/diffusion/train_upsamplers_colors.py -model_name \"acropolis\" -level 2 -config $CFG\n",
      "python src/diffusion/train_upsamplers_colors.py -model_name \"house\" -level 2 -config $CFG\n",
      "python src/diffusion/train_upsamplers_colors.py -model_name \"stone-cliff\" -level 2 -config $CFG\n",
      "python src/diffusion/train_upsamplers_colors.py -model_name \"canyon\" -level 2 -config $CFG\n",
      "python src/diffusion/train_upsamplers_colors.py -model_name \"fighting-pillar\" -level 3 -config $CFG\n",
      "python src/diffusion/train_upsamplers_colors.py -model_name \"wood\" -level 3 -config $CFG\n",
      "python src/diffusion/train_upsamplers_colors.py -model_name \"small-town\" -level 3 -config $CFG\n",
      "python src/diffusion/train_upsamplers_colors.py -model_name \"ruined-tower\" -level 3 -config $CFG\n",
      "python src/diffusion/train_upsamplers_colors.py -model_name \"acropolis\" -level 3 -config $CFG\n",
      "python src/diffusion/train_upsamplers_colors.py -model_name \"house\" -level 3 -config $CFG\n",
      "python src/diffusion/train_upsamplers_colors.py -model_name \"stone-cliff\" -level 3 -config $CFG\n",
      "python src/diffusion/train_upsamplers_colors.py -model_name \"canyon\" -level 3 -config $CFG\n",
      "python src/diffusion/train_upsamplers_colors.py -model_name \"fighting-pillar\" -level 4 -config $CFG\n",
      "python src/diffusion/train_upsamplers_colors.py -model_name \"wood\" -level 4 -config $CFG\n",
      "python src/diffusion/train_upsamplers_colors.py -model_name \"small-town\" -level 4 -config $CFG\n",
      "python src/diffusion/train_upsamplers_colors.py -model_name \"ruined-tower\" -level 4 -config $CFG\n",
      "python src/diffusion/train_upsamplers_colors.py -model_name \"acropolis\" -level 4 -config $CFG\n",
      "python src/diffusion/train_upsamplers_colors.py -model_name \"house\" -level 4 -config $CFG\n",
      "python src/diffusion/train_upsamplers_colors.py -model_name \"stone-cliff\" -level 4 -config $CFG\n",
      "python src/diffusion/train_upsamplers_colors.py -model_name \"canyon\" -level 4 -config $CFG\n"
     ]
    }
   ],
   "source": [
    "names = [e[:-4] for e in os.listdir('../data/GT_WT')]\n",
    "s = 'python src/diffusion/train_upsamplers_colors.py -model_name \"{}\" -level {} -config $CFG'\n",
    "for i in range(1, 5):\n",
    "    for name in names:\n",
    "        print(s.format(name, i))\n"
   ]
  }
 ],
 "metadata": {
  "kernelspec": {
   "display_name": "fvdb_test",
   "language": "python",
   "name": "python3"
  },
  "language_info": {
   "codemirror_mode": {
    "name": "ipython",
    "version": 3
   },
   "file_extension": ".py",
   "mimetype": "text/x-python",
   "name": "python",
   "nbconvert_exporter": "python",
   "pygments_lexer": "ipython3",
   "version": "3.10.14"
  }
 },
 "nbformat": 4,
 "nbformat_minor": 2
}
